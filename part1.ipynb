{
  "nbformat": 4,
  "nbformat_minor": 0,
  "metadata": {
    "colab": {
      "name": "part1",
      "provenance": []
    },
    "kernelspec": {
      "name": "python3",
      "display_name": "Python 3"
    },
    "language_info": {
      "name": "python"
    }
  },
  "cells": [
    {
      "cell_type": "code",
      "metadata": {
        "id": "_1QgDd0cmNlE"
      },
      "source": [
        "!sudo apt-get update >& /dev/null\n",
        "!apt-get install -y xvfb x11-utils >& /dev/null\n",
        "!pip install gym==0.17.* pyvirtualdisplay==0.2.* PyOpenGL==3.1.* PyOpenGL-accelerate==3.1.* >& /dev/null"
      ],
      "execution_count": 1,
      "outputs": []
    },
    {
      "cell_type": "code",
      "metadata": {
        "id": "_BWfBklldpnL"
      },
      "source": [
        "!rm -rf ./video;\n",
        "!mkdir -p ./video"
      ],
      "execution_count": 2,
      "outputs": []
    },
    {
      "cell_type": "code",
      "metadata": {
        "id": "PeChYpYda_eW",
        "colab": {
          "base_uri": "https://localhost:8080/"
        },
        "outputId": "c239f945-f0ac-4f32-e864-0324bc6614cd"
      },
      "source": [
        "import glob\n",
        "import io\n",
        "import base64\n",
        "from IPython.display import HTML\n",
        "from IPython import display as ipythondisplay\n",
        "\n",
        "from pyvirtualdisplay import Display\n",
        "\n",
        "display = Display(visible=0, size=(1368, 768))\n",
        "display.start()"
      ],
      "execution_count": 3,
      "outputs": [
        {
          "output_type": "execute_result",
          "data": {
            "text/plain": [
              "<Display cmd_param=['Xvfb', '-br', '-nolisten', 'tcp', '-screen', '0', '1368x768x24', ':1005'] cmd=['Xvfb', '-br', '-nolisten', 'tcp', '-screen', '0', '1368x768x24', ':1005'] oserror=None return_code=None stdout=\"None\" stderr=\"None\" timeout_happened=False>"
            ]
          },
          "metadata": {
            "tags": []
          },
          "execution_count": 3
        }
      ]
    },
    {
      "cell_type": "code",
      "metadata": {
        "id": "T7aRITfekp7D"
      },
      "source": [
        "def show_video():\n",
        "  mp4list = glob.glob('video/*.mp4')\n",
        "  if len(mp4list) > 0:\n",
        "    mp4 = mp4list[0]\n",
        "    video = io.open(mp4, 'r+b').read()\n",
        "    encoded = base64.b64encode(video)\n",
        "    ipythondisplay.display(HTML(data='''<video alt=\"test\" autoplay loop controls style=\"height: 256px;\"> <source src=\"data:video/mp4;base64,{0}\" type=\"video/mp4\" /></video>'''.format(encoded.decode('ascii'))))\n",
        "  else:\n",
        "    print(\"Could not find video\")"
      ],
      "execution_count": 4,
      "outputs": []
    },
    {
      "cell_type": "code",
      "metadata": {
        "id": "wbfuME4nYJ_r"
      },
      "source": [
        "import gym\n",
        "from gym.wrappers import Monitor\n",
        "\n",
        "def wrap_env(env):\n",
        "  ''''\n",
        "  This monitoring wrapper records the outputs and save them in an mp4 file\n",
        "  '''\n",
        "  env = Monitor(env, './video', force=True)\n",
        "  return env"
      ],
      "execution_count": 5,
      "outputs": []
    },
    {
      "cell_type": "markdown",
      "metadata": {
        "id": "deIazyCfn-lm"
      },
      "source": [
        "## Let's play with FrozenLake"
      ]
    },
    {
      "cell_type": "code",
      "metadata": {
        "id": "hFz1-YEXoFIe"
      },
      "source": [
        "import gym.envs.toy_text.frozen_lake as fl\n",
        "\n",
        "env = wrap_env(gym.make('FrozenLake8x8-v0'))\n",
        "# env = wrap_env(gym.make('FrozenLake-v0'))"
      ],
      "execution_count": 6,
      "outputs": []
    },
    {
      "cell_type": "code",
      "metadata": {
        "colab": {
          "base_uri": "https://localhost:8080/"
        },
        "id": "MkphA8H4o0PF",
        "outputId": "d366ba1f-2a10-44b0-afc9-4783488e50ae"
      },
      "source": [
        "print('Action space for Frozen Lake env: '+ str(env.action_space))\n",
        "print('Observation space for Frozen lake env: '+ str(env.observation_space))"
      ],
      "execution_count": 7,
      "outputs": [
        {
          "output_type": "stream",
          "text": [
            "Action space for Frozen Lake env: Discrete(4)\n",
            "Observation space for Frozen lake env: Discrete(64)\n"
          ],
          "name": "stdout"
        }
      ]
    },
    {
      "cell_type": "code",
      "metadata": {
        "id": "A0PUw-GDqlLg"
      },
      "source": [
        "actions = {fl.LEFT: '\\u2190', fl.DOWN: '\\u2193', fl.RIGHT: '\\u2192', fl.UP: '\\u2191'}"
      ],
      "execution_count": 8,
      "outputs": []
    },
    {
      "cell_type": "markdown",
      "metadata": {
        "id": "PZ52leZro9Y5"
      },
      "source": [
        "$Bellman\\ Equations$\n",
        "\n",
        "\n",
        "$V: S \\rightarrow \\mathbb{R}$\n",
        "\n",
        "\\begin{align*}\n",
        "V^{\\pi}(s) &= r(s, \\pi(s)) + \\gamma \\mathbb{E}_{s'\\sim p(s'|s, \\pi(s))} \\Big[V^{\\pi}\\left(s'\\right) \\Big]\\\\\n",
        " &=r(s, \\pi(s)) + \\gamma \\sum\\limits_{s'\\in S} p\\left(s'|s,\\pi(s)\\right) V^{\\pi}(s')\n",
        "\\end{align*}\n",
        "\n",
        "\n",
        "$Q: S \\times A \\rightarrow \\mathbb{R}$\n",
        "\n",
        "\\begin{align*}\n",
        "Q^{\\pi}(s,a) &= r(s, a) + \\gamma \\mathbb{E}_{s'\\sim p(s'|s, a)} \\Big[ Q^{\\pi}\\left(s', \\pi(s')\\right)\\Big]\\\\\n",
        " &=r(s, a) + \\gamma \\sum\\limits_{s'\\in S}p\\left(s'|s,a\\right) Q^{\\pi}\\left(s', \\pi(s')\\right)\n",
        "\\end{align*}"
      ]
    },
    {
      "cell_type": "code",
      "metadata": {
        "id": "OOzfp-XLvCvF"
      },
      "source": [
        "from tqdm import tqdm\n",
        "import numpy as np\n",
        "\n",
        "# Let's define a policy that always moves RIGHT\n",
        "pi = fl.RIGHT*np.ones((env.observation_space.n), np.uint8)\n",
        "\n",
        "gamma = 0.9\n",
        "max_iterations = 40\n",
        "\n",
        "def compute_Q_sequence(env, pi, gamma=0.9, max_iterations = 20):\n",
        "  \"\"\"\n",
        "  Compute the value for each state\n",
        "  \"\"\"\n",
        "  \n",
        "  Q = np.zeros((env.observation_space.n, env.action_space.n))\n",
        "  Qpi_sequence = [Q]\n",
        "\n",
        "  for i in tqdm(range(max_iterations)):\n",
        "    Qnew = np.zeros((env.observation_space.n, env.action_space.n))\n",
        "    # recompute the values for each states in the value table\n",
        "    for x in range(env.observation_space.n):\n",
        "      for a in range(env.action_space.n):\n",
        "        outcomes = env.unwrapped.P[x][a]\n",
        "        for o in outcomes:\n",
        "          p = o[0]\n",
        "          y = o[1]\n",
        "          r = o[2]\n",
        "          Qnew[x][a] += p * (r + gamma*Q[y][pi[y]])\n",
        "    Q = Qnew\n",
        "    Qpi_sequence.append(Qnew)\n",
        "\n",
        "  return Qpi_sequence"
      ],
      "execution_count": 9,
      "outputs": []
    },
    {
      "cell_type": "code",
      "metadata": {
        "colab": {
          "base_uri": "https://localhost:8080/"
        },
        "id": "xawnczTeavUG",
        "outputId": "ad2f91b5-47e3-464a-ccbb-67c77adc1174"
      },
      "source": [
        "Qpi_sequence = compute_Q_sequence(env, pi=pi, gamma=gamma, max_iterations=max_iterations)"
      ],
      "execution_count": 10,
      "outputs": [
        {
          "output_type": "stream",
          "text": [
            "100%|██████████| 40/40 [00:00<00:00, 716.30it/s]\n"
          ],
          "name": "stderr"
        }
      ]
    },
    {
      "cell_type": "code",
      "metadata": {
        "colab": {
          "base_uri": "https://localhost:8080/",
          "height": 530
        },
        "id": "zRGOOcE_hrOl",
        "outputId": "d4b32798-6918-43c7-b963-c1cb4df1c15b"
      },
      "source": [
        "import matplotlib.pyplot as plt\n",
        "%matplotlib inline\n",
        "\n",
        "residuals = []\n",
        "for i in range(1, len(Qpi_sequence)):\n",
        "  residuals.append(np.max(np.abs(Qpi_sequence[i] - Qpi_sequence[i-1])))\n",
        "\n",
        "plt.plot(residuals)\n",
        "plt.figure()\n",
        "plt.semilogy(residuals)"
      ],
      "execution_count": 11,
      "outputs": [
        {
          "output_type": "execute_result",
          "data": {
            "text/plain": [
              "[<matplotlib.lines.Line2D at 0x7f00308c5d10>]"
            ]
          },
          "metadata": {
            "tags": []
          },
          "execution_count": 11
        },
        {
          "output_type": "display_data",
          "data": {
            "image/png": "[encoded data removed]",
            "text/plain": [
              "<Figure size 432x288 with 1 Axes>"
            ]
          },
          "metadata": {
            "tags": [],
            "needs_background": "light"
          }
        },
        {
          "output_type": "display_data",
          "data": {
            "image/png": "[encoded data removed]",
            "text/plain": [
              "<Figure size 432x288 with 1 Axes>"
            ]
          },
          "metadata": {
            "tags": [],
            "needs_background": "light"
          }
        }
      ]
    },
    {
      "cell_type": "markdown",
      "metadata": {
        "id": "u0DFl8NxlA_8"
      },
      "source": [
        "$Bellman\\ Optimality\\ Equations$\n",
        "\n",
        "\n",
        "$V^*: S \\rightarrow \\mathbb{R}$\n",
        "\n",
        "\\begin{align*}\n",
        "V^*(s) &= \\max\\limits_{a\\in A}\\left( r(s, a) + \\gamma \\mathbb{E}_{s'\\sim p(s'|s, \\pi(s))} \\Big[V^*\\left(s'\\right) \\Big]\\right)\\\\\n",
        " &=\\max\\limits_{a\\in A} \\left(r(s, a) + \\gamma \\sum\\limits_{s'\\in S} p\\left(s'|s,a\\right) V^*(s')\\right)\n",
        "\\end{align*}\n",
        "\n",
        "\n",
        "$Q^*: S \\times A \\rightarrow \\mathbb{R}$\n",
        "\n",
        "\\begin{align*}\n",
        "Q^*(s,a) &= r(s, a) + \\gamma \\mathbb{E}_{s'\\sim p(s'|s, a)} \\Big[ \\max\\limits_{a'\\in A}Q^*\\left(s', a'\\right)\\Big]\\\\\n",
        " &=r(s, a) + \\gamma \\sum\\limits_{s'\\in S}p\\left(s'|s,a\\right) \\max\\limits_{a'\\in A}Q^*\\left(s', a'\\right)\n",
        "\\end{align*}"
      ]
    },
    {
      "cell_type": "code",
      "metadata": {
        "id": "VyEiRsjZn6HS"
      },
      "source": [
        "# Value Iteration\n",
        "\n",
        "def compute_Qopt_sequence(env, gamma=0.9, max_iterations = 20):\n",
        "  \"\"\"\n",
        "  Compute the value for each state\n",
        "  \"\"\"\n",
        "  \n",
        "  Q = np.zeros((env.observation_space.n, env.action_space.n))\n",
        "  Qopt_sequence = [Q]\n",
        "\n",
        "  for i in tqdm(range(max_iterations)):\n",
        "    Qnew = np.zeros((env.observation_space.n, env.action_space.n))\n",
        "    # recompute the values for each states in the value table\n",
        "    for x in range(env.observation_space.n):\n",
        "      for a in range(env.action_space.n):\n",
        "        outcomes = env.unwrapped.P[x][a]\n",
        "        for o in outcomes:\n",
        "          p = o[0]\n",
        "          y = o[1]\n",
        "          r = o[2]\n",
        "          Qnew[x, a] += p * (r + gamma * np.max(Q[y, :]))\n",
        "    Q = Qnew\n",
        "    Qopt_sequence.append(Qnew)\n",
        "\n",
        "  return Qopt_sequence"
      ],
      "execution_count": 12,
      "outputs": []
    },
    {
      "cell_type": "code",
      "metadata": {
        "colab": {
          "base_uri": "https://localhost:8080/"
        },
        "id": "Duwr3smiwEpi",
        "outputId": "b49d5999-392d-4b11-eb11-2d4ab10aa756"
      },
      "source": [
        "Qopt_sequence = compute_Qopt_sequence(env, gamma=gamma, max_iterations=max_iterations)"
      ],
      "execution_count": 13,
      "outputs": [
        {
          "output_type": "stream",
          "text": [
            "100%|██████████| 40/40 [00:00<00:00, 155.87it/s]\n"
          ],
          "name": "stderr"
        }
      ]
    },
    {
      "cell_type": "code",
      "metadata": {
        "colab": {
          "base_uri": "https://localhost:8080/",
          "height": 530
        },
        "id": "0kr2yuPHwM30",
        "outputId": "6d807f69-93ff-4be1-a13b-ff24fb0f5d12"
      },
      "source": [
        "import matplotlib.pyplot as plt\n",
        "%matplotlib inline\n",
        "\n",
        "residuals = []\n",
        "for i in range(1, len(Qopt_sequence)):\n",
        "  residuals.append(np.max(np.abs(Qopt_sequence[i] - Qopt_sequence[i-1])))\n",
        "\n",
        "plt.plot(residuals)\n",
        "plt.figure()\n",
        "plt.semilogy(residuals)"
      ],
      "execution_count": 14,
      "outputs": [
        {
          "output_type": "execute_result",
          "data": {
            "text/plain": [
              "[<matplotlib.lines.Line2D at 0x7f003024b810>]"
            ]
          },
          "metadata": {
            "tags": []
          },
          "execution_count": 14
        },
        {
          "output_type": "display_data",
          "data": {
            "image/png": "[encoded data removed]",
            "text/plain": [
              "<Figure size 432x288 with 1 Axes>"
            ]
          },
          "metadata": {
            "tags": [],
            "needs_background": "light"
          }
        },
        {
          "output_type": "display_data",
          "data": {
            "image/png": "[encoded data removed]",
            "text/plain": [
              "<Figure size 432x288 with 1 Axes>"
            ]
          },
          "metadata": {
            "tags": [],
            "needs_background": "light"
          }
        }
      ]
    },
    {
      "cell_type": "markdown",
      "metadata": {
        "id": "gxs-qeBK5NU6"
      },
      "source": [
        "Complexity of Value Iteration algorithm: $O(S^2A)$"
      ]
    },
    {
      "cell_type": "markdown",
      "metadata": {
        "id": "mgSoT2d_ClV4"
      },
      "source": [
        "# TD(0) temporal difference update on $Q$-functions\n",
        "\n",
        "For a sample $(s,a,r,s')$, the temporal difference is:\n",
        "\n",
        "$\\delta = r + \\gamma Q(s',\\pi(s')) - Q(s,a)$\n",
        "\n",
        "And the TD update is:\n",
        "\n",
        "$Q(s,a) \\leftarrow Q(s,a) + \\alpha \\left[ r + \\gamma Q(s',\\pi(s')) - Q(s,a) \\right]$\n",
        "\n",
        "As long as all state-action pairs $(s,a)$ are sampled infinitely often as $t\\rightarrow\\infty$, and under the Robbins-Monro conditions, this procedure converges to $Q^\\pi$.\n",
        "\n",
        "Please note that: $Q(s', \\pi(s'))=V(s')$"
      ]
    },
    {
      "cell_type": "code",
      "metadata": {
        "id": "IToFMgAvCtXl"
      },
      "source": [
        "alpha = 0.001\n",
        "max_iterations = 50000000\n",
        "\n",
        "def td0(env, Qtrue, alpha=0.01, gamma=0.9, max_iterations=5000000):\n",
        "  error = np.zeros((max_iterations))\n",
        "\n",
        "  Qtd = np.zeros((env.observation_space.n, env.action_space.n))\n",
        "\n",
        "  x = env.reset()\n",
        "  for i in tqdm(range(max_iterations)):\n",
        "    # randint with a single argument returns value in [0, low)\n",
        "    a = np.random.randint(env.action_space.n)\n",
        "    y, r, d, _ = env.step(a)\n",
        "    Qtd[x, a] = Qtd[x, a] + alpha * (r + gamma*Qtd[y, fl.RIGHT] - Qtd[x, a])\n",
        "    error[i] = np.max(np.abs(Qtd-Qtrue))\n",
        "    if d == True:\n",
        "      x = env.reset()\n",
        "    else:\n",
        "      x = y\n",
        "  \n",
        "  return Qtd, error"
      ],
      "execution_count": 15,
      "outputs": []
    },
    {
      "cell_type": "code",
      "metadata": {
        "colab": {
          "base_uri": "https://localhost:8080/"
        },
        "id": "45ZGSvPNHMAW",
        "outputId": "1f319533-cdd1-4748-fed5-8097a2b9e175"
      },
      "source": [
        " Qtd, error = td0(env, Qtrue=Qpi_sequence[-1], alpha=alpha, gamma=gamma, max_iterations=15000000)"
      ],
      "execution_count": 16,
      "outputs": [
        {
          "output_type": "stream",
          "text": [
            "100%|██████████| 15000000/15000000 [13:22<00:00, 18702.63it/s]\n"
          ],
          "name": "stderr"
        }
      ]
    },
    {
      "cell_type": "code",
      "metadata": {
        "colab": {
          "base_uri": "https://localhost:8080/",
          "height": 590
        },
        "id": "qO4KbPvfIROh",
        "outputId": "c5a18074-84cb-4227-9575-1fb3ab64f2e6"
      },
      "source": [
        "print(\"Max error: \", np.max(np.abs(Qtd-Qpi_sequence[-1])))\n",
        "print(\"Max error: \", np.max(np.abs(Qtd-Qopt_sequence[-1])))\n",
        "plt.figure()\n",
        "plt.plot(error)\n",
        "plt.figure()\n",
        "plt.semilogy(error)"
      ],
      "execution_count": 17,
      "outputs": [
        {
          "output_type": "stream",
          "text": [
            "Max error:  0.5371487095803197\n",
            "Max error:  0.6035763872229414\n"
          ],
          "name": "stdout"
        },
        {
          "output_type": "execute_result",
          "data": {
            "text/plain": [
              "[<matplotlib.lines.Line2D at 0x7f00300604d0>]"
            ]
          },
          "metadata": {
            "tags": []
          },
          "execution_count": 17
        },
        {
          "output_type": "display_data",
          "data": {
            "image/png": "[encoded data removed]",
            "text/plain": [
              "<Figure size 432x288 with 1 Axes>"
            ]
          },
          "metadata": {
            "tags": [],
            "needs_background": "light"
          }
        },
        {
          "output_type": "display_data",
          "data": {
            "image/png": "[encoded data removed]",
            "text/plain": [
              "<Figure size 432x288 with 1 Axes>"
            ]
          },
          "metadata": {
            "tags": [],
            "needs_background": "light"
          }
        }
      ]
    },
    {
      "cell_type": "markdown",
      "metadata": {
        "id": "MYMdwa-zVGMl"
      },
      "source": [
        "#Q-learning\n",
        "For a sample $(s,a,r,s')$, the temporal difference is:\n",
        "\n",
        "$\\delta = r + \\gamma \\max_{a'} Q(s',a') - Q(s,a)$\n",
        "\n",
        "And the TD update is:\n",
        "\n",
        "$Q(s,a) \\leftarrow Q(s,a) + \\alpha \\left[ r + \\gamma \\max_{a'} Q(s',a') - Q(s,a) \\right]$\n",
        "\n",
        "As long as all state-action pairs $(s,a)$ are sampled infinitely often as $t \\rightarrow \\infty$, and under the Robbins-Monro conditions, this procedure converges to $Q^*$.\n",
        "\n",
        "$Q$ converges to $Q^*$ even if the behavior policy does not."
      ]
    },
    {
      "cell_type": "code",
      "metadata": {
        "id": "SxjeZF-INM6g"
      },
      "source": [
        "from copy import deepcopy\n",
        "\n",
        "def qlearning(env, Qinit, alpha=0.01, gamma=0.9, epsilon=1, max_iterations=5000000):\n",
        "  error = np.zeros((max_iterations))\n",
        "  count = np.zeros((env.observation_space.n, env.action_space.n))\n",
        "  Q = deepcopy(Qinit)\n",
        "\n",
        "  x, _, _, _ = env.step(np.random.randint(env.action_space.n))\n",
        "  for i in tqdm(range(max_iterations)):\n",
        "    # Modify epsilon\n",
        "    if (i+1)%1000000 == 0:\n",
        "      epsilon = epsilon / 2\n",
        "    # Explore / Exploit\n",
        "    a = np.argmax(Q[x, :])\n",
        "    if np.random.rand() < epsilon:\n",
        "      a = np.random.randint(env.action_space.n)\n",
        "    # Evaluate\n",
        "    y, r, d, _ = env.step(a)\n",
        "    Q[x, a] = Q[x, a] + alpha * (r + gamma*np.max(Q[y, :]) - Q[x, a])\n",
        "\n",
        "    count[x, a] += 1\n",
        "\n",
        "    if d == True:\n",
        "      x = env.reset()\n",
        "    else:\n",
        "      x = y\n",
        "  \n",
        "  return Q, count"
      ],
      "execution_count": 18,
      "outputs": []
    },
    {
      "cell_type": "code",
      "metadata": {
        "colab": {
          "base_uri": "https://localhost:8080/"
        },
        "id": "2viwwJAHg2q-",
        "outputId": "ea369175-1a30-49d9-acb6-ff55e53d3c57"
      },
      "source": [
        "Q, count = qlearning(env, Qinit=Qpi_sequence[-1], max_iterations=15000000)"
      ],
      "execution_count": 19,
      "outputs": [
        {
          "output_type": "stream",
          "text": [
            "100%|██████████| 15000000/15000000 [11:13<00:00, 22274.05it/s]\n"
          ],
          "name": "stderr"
        }
      ]
    },
    {
      "cell_type": "code",
      "metadata": {
        "colab": {
          "base_uri": "https://localhost:8080/",
          "height": 307
        },
        "id": "QFuMWjQncxvK",
        "outputId": "fac14923-0e85-4ad7-ef21-731e24079f50"
      },
      "source": [
        "print(\"Max error: \", np.max(np.abs(Q-Qopt_sequence[-1])))\n",
        "\n",
        "count_map = np.zeros((env.unwrapped.nrow, env.unwrapped.ncol, env.action_space.n))\n",
        "for a in range(env.action_space.n):\n",
        "  for x in range(env.observation_space.n):\n",
        "    col = x%env.unwrapped.ncol\n",
        "    row = int((x-col)/env.unwrapped.ncol)\n",
        "    count_map[row, col, a] = count[x,a]\n",
        "\n",
        "fig, axs = plt.subplots(ncols=4)\n",
        "for a in range(env.action_space.n):\n",
        "  name = \"a = \" + actions[a]\n",
        "  axs[a].set_title(name)\n",
        "  axs[a].imshow(np.log(count_map[:,:,a]+1), interpolation='nearest')\n",
        "\n",
        "plt.show()\n",
        "env.render()"
      ],
      "execution_count": 20,
      "outputs": [
        {
          "output_type": "stream",
          "text": [
            "Max error:  0.052699529955104574\n"
          ],
          "name": "stdout"
        },
        {
          "output_type": "display_data",
          "data": {
            "image/png": "[encoded data removed]",
            "text/plain": [
              "<Figure size 432x288 with 4 Axes>"
            ]
          },
          "metadata": {
            "tags": [],
            "needs_background": "light"
          }
        },
        {
          "output_type": "stream",
          "text": [
            "  (Right)\n",
            "SFFFFFFF\n",
            "FFFF\u001b[41mF\u001b[0mFFF\n",
            "FFFHFFFF\n",
            "FFFFFHFF\n",
            "FFFHFFFF\n",
            "FHHFFFHF\n",
            "FHFFHFHF\n",
            "FFFHFFFG\n"
          ],
          "name": "stdout"
        }
      ]
    },
    {
      "cell_type": "code",
      "metadata": {
        "id": "WAdPeP60skUN"
      },
      "source": [
        "def epsilon_greedy_policy(Q):\n",
        "  pi = np.zeros((env.observation_space.n), np.int)\n",
        "  for s in range(env.observation_space.n):\n",
        "    pi[s] = np.argmax(Q[s, :])\n",
        "  return pi\n",
        "\n",
        "def plot_policy(env, policy):\n",
        "  for row in range(env.unwrapped.nrow):\n",
        "    for col in range(env.unwrapped.ncol):\n",
        "      print(actions[pi[row*env.unwrapped.ncol+col]], end='')\n",
        "    print('')"
      ],
      "execution_count": 21,
      "outputs": []
    },
    {
      "cell_type": "code",
      "metadata": {
        "colab": {
          "base_uri": "https://localhost:8080/"
        },
        "id": "RkaawHh5t_Pf",
        "outputId": "a3139342-a8fb-4dc3-aa96-18e8fcfd7017"
      },
      "source": [
        "pi = epsilon_greedy_policy(Q)\n",
        "\n",
        "plot_policy(env, pi)"
      ],
      "execution_count": 22,
      "outputs": [
        {
          "output_type": "stream",
          "text": [
            "↑→→→→→→→\n",
            "↑↑↑↑→→→↓\n",
            "↑↑←←→↑→↓\n",
            "↑↑↑↓←←→↓\n",
            "↑↑←←→↓↑→\n",
            "←←←→↑←←→\n",
            "←←→↑←←←→\n",
            "←↓←←↓↓↓←\n"
          ],
          "name": "stdout"
        }
      ]
    },
    {
      "cell_type": "markdown",
      "metadata": {
        "id": "m8ByfGUNfh3c"
      },
      "source": [
        "# Let's play with Mountain Car\n",
        "\n",
        "Observation space is now continuous"
      ]
    },
    {
      "cell_type": "code",
      "metadata": {
        "colab": {
          "base_uri": "https://localhost:8080/"
        },
        "id": "Oq-zkouHn1Ji",
        "outputId": "3b563178-52c4-445d-aa32-99fc6f7cce41"
      },
      "source": [
        "env = wrap_env(gym.make('MountainCar-v0'))\n",
        "env.seed(16)\n",
        "\n",
        "print('Action space for Mountain car env: '+str(env.action_space))\n",
        "print('Observation space for Mountain car env: '+str(env.observation_space))"
      ],
      "execution_count": 23,
      "outputs": [
        {
          "output_type": "stream",
          "text": [
            "Action space for Mountain car env: Discrete(3)\n",
            "Observation space for Mountain car env: Box(-1.2000000476837158, 0.6000000238418579, (2,), float32)\n"
          ],
          "name": "stdout"
        }
      ]
    },
    {
      "cell_type": "code",
      "metadata": {
        "id": "kvhS_cZIfMR0"
      },
      "source": [
        "import numpy as np\n",
        "\n",
        "# Let's define some buckets for the states\n",
        "\n",
        "n_states = 36\n",
        "\n",
        "def get_state_values(env, obs):\n",
        "  env_low = env.observation_space.low\n",
        "  env_high = env.observation_space.high\n",
        "\n",
        "  env_delta = (env_high - env_low) / n_states\n",
        "  pos = int((obs[0] - env_low[0])/env_delta[0])\n",
        "  vel = int((obs[1] - env_low[1])/env_delta[1])\n",
        "\n",
        "  return pos, vel\n",
        "\n",
        "q_table = np.zeros((n_states, n_states, 3))"
      ],
      "execution_count": 24,
      "outputs": []
    },
    {
      "cell_type": "code",
      "metadata": {
        "id": "npRSypbyk6Xt"
      },
      "source": [
        "actions = {0: '\\u2190', 1: '\\u2504', 2: '\\u2192'}"
      ],
      "execution_count": 25,
      "outputs": []
    },
    {
      "cell_type": "code",
      "metadata": {
        "id": "sb3_a3RBnkql"
      },
      "source": [
        "# learning rate\n",
        "min_lr = 0.003\n",
        "initial_lr = 1\n",
        "# discount factor\n",
        "gamma = 0.9\n",
        "# exploration factor\n",
        "eps = 0.02\n",
        "# max number of episodes\n",
        "ep_max = 1000\n",
        "# max number of iterations\n",
        "iter_max = 1000"
      ],
      "execution_count": 26,
      "outputs": []
    },
    {
      "cell_type": "code",
      "metadata": {
        "id": "f8O6KaEOfuXo",
        "colab": {
          "base_uri": "https://localhost:8080/"
        },
        "outputId": "a1887deb-0e21-4bbe-c3cb-71f1952ce70a"
      },
      "source": [
        "# Q-Learning\n",
        "\n",
        "for i in tqdm(range(ep_max)):\n",
        "  obs = env.reset()\n",
        "  eta = max(min_lr, initial_lr*(0.85**(i//100)))\n",
        "  for j in range(iter_max):\n",
        "    pos, vel = get_state_values(env, obs)\n",
        "    # Explore 2% \n",
        "    if np.random.uniform(0, 1) < eps:\n",
        "      action = np.random.choice(env.action_space.n)\n",
        "    # Exploit remaining time\n",
        "    else:\n",
        "      logits = q_table[pos][vel]\n",
        "      logits_exp = np.exp(logits)\n",
        "      probs = logits_exp / np.sum(logits_exp)\n",
        "      action = np.random.choice(env.action_space.n, p=probs)\n",
        "\n",
        "    obs, reward, done, _ = env.step(action)\n",
        "\n",
        "    pos_, vel_ = get_state_values(env, obs)\n",
        "    q_table[pos][vel][action] = q_table[pos][vel][action] +\\\n",
        "      eta * (reward+gamma*np.max(q_table[pos_][vel_])-q_table[pos][vel][action])\n",
        "    if done:\n",
        "      break"
      ],
      "execution_count": 27,
      "outputs": [
        {
          "output_type": "stream",
          "text": [
            "100%|██████████| 1000/1000 [01:09<00:00, 14.41it/s]\n"
          ],
          "name": "stderr"
        }
      ]
    },
    {
      "cell_type": "code",
      "metadata": {
        "colab": {
          "base_uri": "https://localhost:8080/"
        },
        "id": "jEIJhI_Xtu5d",
        "outputId": "44d2fab8-7d61-4243-e596-459fc7497c11"
      },
      "source": [
        "pi = np.argmax(q_table, axis=2)\n",
        "\n",
        "for vel in range(n_states):\n",
        "    for pos in range(n_states):\n",
        "      print(actions[pi[pos, vel]], end='')\n",
        "    print('')"
      ],
      "execution_count": 28,
      "outputs": [
        {
          "output_type": "stream",
          "text": [
            "←←←←←←←←←←←←←←←←←←←←←←←←←←←←←←←←←←←←\n",
            "←←←←←←←←←←←←←←←←←←←←←←←←←←←←←←←←←←←←\n",
            "←←←←←←←←←←←←←←←←←←←←←←←←←←←←←←←←←←←←\n",
            "←←←←←←←←←←←←←←←←←←←←←←←←←←←←←←←←←←←←\n",
            "←←←←←←←←←←←←←←←←←←←←←←←←←←←←←←←←←←←←\n",
            "←←←←←←←←←←←←←←←←←←←←←←←←←←←←←←←←←←←←\n",
            "←←←←←←←←←←←←←←←←←←←←←←←←←←←←←←←←←←←←\n",
            "←←←←←←←←←┄→→→┄→←←←←←←←←←←←←←←←←←←←←←\n",
            "←←←←←←←┄←┄←←←┄→→←┄┄←←←←←←←←←←←←←←←←←\n",
            "←←←←←←←→←←←←┄←←┄←←┄→←←←←←←←←←←←←←←←←\n",
            "←←←←←←→┄←←┄←←←←←←←┄←←←←←←←←←←←←←←←←←\n",
            "←←←←←←┄←←┄←←←┄←←←←←←┄←←←←←←←←←←←←←←←\n",
            "←←←←┄┄┄←┄←←←←←←┄←←┄┄→┄←←←←←←←←←←←←←←\n",
            "←←←←┄←←←←←←←←←←←←┄←←→→┄←←←←←←←←←←←←←\n",
            "←←←←┄←←←←←←←←←┄←←┄→┄┄→┄←←←←←←←←←←←←←\n",
            "←←←┄←┄←┄←┄←┄←←←←←┄┄┄┄┄←←←←←←←←←←←←←←\n",
            "←←→┄←┄←←→←→┄→←←┄←┄←→←→→┄←←←←←←←←←←←←\n",
            "←←←→←←┄┄←┄→→→←┄┄←←←←┄→┄←←←←←←←←←←←←←\n",
            "←←→←┄┄┄→→→→→┄┄←←┄←←→┄→→→←←←←←←←←←←←←\n",
            "←←←┄┄┄┄→┄┄→→→→→→→→┄┄←→→┄←←←←←←←←←←←←\n",
            "←←←←←←←┄→→→→→→→→┄┄←←→┄┄→←←←←←←←←←←←←\n",
            "←←←←┄→→→→→→┄→┄→┄→←┄┄┄┄←←←←←←←←←←←←←←\n",
            "←←←←←→→┄┄←→→→→→→→┄→┄┄←←←←←←←←←←←←←←←\n",
            "←←←←←←→→→┄→┄→→┄→→→→→←→←←←←←←←←←←←←←←\n",
            "←←←←←→←┄→→→→→→→→→→→→┄┄←←←←←←←←←←←←←←\n",
            "←←←←←←←┄→→┄→→→→→→┄┄→┄←←←←←←←←←←←←←←←\n",
            "←←←←←←←←←←┄←┄←→→→→┄┄←←←←←←←←←←←←←←←←\n",
            "←←←←←←←←←←←→┄→┄→←┄←←←←←←←←←←←←←←←←←←\n",
            "←←←←←←←←←←←←←←←←←←←←←←←←←←←←←←←←←←←←\n",
            "←←←←←←←←←←←←←←←←←←←←←←←←←←←←←←←←←←←←\n",
            "←←←←←←←←←←←←←←←←←←←←←←←←←←←←←←←←←←←←\n",
            "←←←←←←←←←←←←←←←←←←←←←←←←←←←←←←←←←←←←\n",
            "←←←←←←←←←←←←←←←←←←←←←←←←←←←←←←←←←←←←\n",
            "←←←←←←←←←←←←←←←←←←←←←←←←←←←←←←←←←←←←\n",
            "←←←←←←←←←←←←←←←←←←←←←←←←←←←←←←←←←←←←\n",
            "←←←←←←←←←←←←←←←←←←←←←←←←←←←←←←←←←←←←\n"
          ],
          "name": "stdout"
        }
      ]
    },
    {
      "cell_type": "code",
      "metadata": {
        "id": "BcO1y8DQ2yX7"
      },
      "source": [
        "def run_episode(env, policy=None, render=False):\n",
        "  total_reward = 0\n",
        "  obs = env.reset()\n",
        "  for step in range(iter_max):\n",
        "    if render:\n",
        "      env.render()\n",
        "    action = None\n",
        "    if policy is None:\n",
        "      action = np.random.choice(env.action_space.n)\n",
        "    else:\n",
        "      pos, vel = get_state_values(env, obs)\n",
        "      action = policy[pos, vel]\n",
        "    obs, reward, done, _ = env.step(action)\n",
        "    total_reward += reward*gamma**step\n",
        "    if done:\n",
        "      break\n",
        "  return total_reward        "
      ],
      "execution_count": 29,
      "outputs": []
    },
    {
      "cell_type": "code",
      "metadata": {
        "colab": {
          "base_uri": "https://localhost:8080/",
          "height": 277
        },
        "id": "96YgWStI5cly",
        "outputId": "5fa2633b-48a3-4860-db5f-4e9a6b9d1ab8"
      },
      "source": [
        "rewards = []\n",
        "rewards = [run_episode(env, policy=pi, render=True) for _ in range(100)]\n",
        "\n",
        "show_video()"
      ],
      "execution_count": 30,
      "outputs": [
        {
          "output_type": "display_data",
          "data": {
            "text/html": [
              "<video alt=\"test\" autoplay loop controls style=\"height: 256px;\"> <source src=\"data:video/mp4;base64,AAAAIGZ0eXBpc29tAAACAGlzb21pc28yYXZjMW1wNDEAAAAIZnJlZQAAvDttZGF0AAACrgYF//+q3EXpvebZSLeWLNgg2SPu73gyNjQgLSBjb3JlIDE1MiByMjg1NCBlOWE1OTAzIC0gSC4yNjQvTVBFRy00IEFWQyBjb2RlYyAtIENvcHlsZWZ0IDIwMDMtMjAxNyAtIGh0dHA6Ly93d3cudmlkZW9sYW4ub3JnL3gyNjQuaHRtbCAtIG9wdGlvbnM6IGNhYmFjPTEgcmVmPTMgZGVibG9jaz0xOjA6MCBhbmFseXNlPTB4MzoweDExMyBtZT1oZXggc3VibWU9NyBwc3k9MSBwc3lfcmQ9MS4wMDowLjAwIG1peGVkX3JlZj0xIG1lX3JhbmdlPTE2IGNocm9tYV9tZT0xIHRyZWxsaXM9MSA4eDhkY3Q9MSBjcW09MCBkZWFkem9uZT0yMSwxMSBmYXN0X3Bza2lwPTEgY2hyb21hX3FwX29mZnNldD0tMiB0aHJlYWRzPTMgbG9va2FoZWFkX3RocmVhZHM9MSBzbGljZWRfdGhyZWFkcz0wIG5yPTAgZGVjaW1hdGU9MSBpbnRlcmxhY2VkPTAgYmx1cmF5X2NvbXBhdD0wIGNvbnN0cmFpbmVkX2ludHJhPTAgYmZyYW1lcz0zIGJfcHlyYW1pZD0yIGJfYWRhcHQ9MSBiX2JpYXM9MCBkaXJlY3Q9MSB3ZWlnaHRiPTEgb3Blbl9nb3A9MCB3ZWlnaHRwPTIga2V5aW50PTI1MCBrZXlpbnRfbWluPTI1IHNjZW5lY3V0PTQwIGludHJhX3JlZnJlc2g9MCByY19sb29rYWhlYWQ9NDAgcmM9Y3JmIG1idHJlZT0xIGNyZj0yMy4wIHFjb21wPTAuNjAgcXBtaW49MCBxcG1heD02OSBxcHN0ZXA9NCBpcF9yYXRpbz0xLjQwIGFxPTE6MS4wMACAAAAQx2WIhAA3//728P4FNjuY0JcRzeidMx+/Fbi6NDe9zgAAAwAAAwAACNCLwW1jsC2M+AAAJZAt9C+gGAAN3dq5XHPUJqMQ9STIE4h5i1p0ovAz2D6+0y6GAp6iGk03o7xeeJnNFlP7pyt72mmO8alQPFkcQS/hupH7h4mJTeRhtQk621kLNt8RFPKKRW6wQBeqa/bIUz2QUD/5/AKR9JghRtwUcbJYDG+GJMPfc0Z9+Ky2ZULlDK+ObhIm0waUlSDFaiGatI7Cv9YYX3GwANdOvfJULx5gqPt4GHqavREAVJQU2iOKP5G+WttIUpCgmsc99A8Dcsc4NyqwXB/Wn1HghqJQQTXBhrqdl+eCJeXRZ8bhBdBnr0sWP5YVPan+zifC1CRYcA7fnq256iVjYkyvp6grqbaJSiuDI5DbujXnFly7nle/W7NR/1S2Vof4k+CO61XnSIdtvxgWBwUWA46h0k1oBtMIQvNUXU33AM8G80Ey7IIx18o8b2mKF3zbUTMnFoBoXl6eDPvaN5fHuWZowtenf+WYDl1jSre9SqRT06h/6ZRDv7xTAHJNq6qxYSI0NftlMttSAzKr+nSofw/95u7GewZDF0yP7yLs82zMDY+0kJ1m7wus3HJL/RKeMZXAAAADABOd+97ZsfU/AetTFlL3eGUPI3gGHjOnAH31e4cNjmvsmesMTTM4eiERjIRWvHAU2TClT9QN4TxKLEodabOQADnwf0FnYOL2zQOiHdi3H/i0RT8Z6Q0OufexkjrfnBX8Ml+QdWQhPTOOVmynP2U537Z3NDuWSSw0CZz/THyMceaGg9XQ76ezrOt+G1EjwsVV9mb+q47cAwK/MLgHGq7Gck3N7ogAwAQ5YaQCO+lmuiUbPjz/Yd02QKOIDdL3mSY6VuxGFsKBYO8f0SRO+qjpT+Cm0RfoXnFLlFhjelV7VI7Aj+kvvWhqqdvsZh0oAjDuA/KteGfgQh2a4TwEB+IGv2Gkdqv3xJ9lIxX/3yowxySFuZ0+f1VUxedtXp5HyDwABORx1ZrGd+OIhIS8oWUL2EdmLP7P8IXICbCYmyEDV1ApwDnEiEFKoBVI7Zjll3KcVGMmcEDgBRlXZlJsPyA8JyP6fGtElmhHQ+E10HJ7Thld6rVLs/sbMDcspT4yhVk5V/cdobTn/kQ4ShBbsn1mFiUmUBjTYEwVOB8nRWYZ+fZRorSg+VbVzJwEziuojDaBme+4BQmK6S3hmx04jcjPXejw839OdX/0emPwxp6BBehtubLMbrrq+Kem0x/eRuI7IEeO9nvalmIHwarzjaNA80eco7v8zrqhCDQXtvbIBJZdISniHDToD9Vp42mUm6kHhfrXqeY8e5YvE+3q1aw1I3K58e2Q79VN900UgWF18QdfpQIPLBATdwg9uAABXVn0g9eAwYBDKBh09jReeRz/kgP9MBDPYe8dOVtgfULjZd9klC4VecBUoXp/+/Nxr25nUt3LNWyjZXfLHXhCqmA9rATdu88/aPY7n4+AGAT+ND337i/gEtQ4dRrGlDk61v16gcPogjUgVwKx1S3Zx+KKpV7WAYRfFTmnMBoGh+/rqA36lUBu8wIXFD8KGhlAtdrRoTlTqwsVDMspO1rMsY16Mzy9vKOik5cvigHNWkJYSI2kzf5xeYjU4G1qNAAAKeEh0P7f6H0DmPODvHjYSys6p7vhKP5r9wdkl+uV3Z6xqWa6/n2i3CaCbnaxxBF7rWQRZG7cyiWHlKfnkVk/FPmeB5yz60PqeexBVHUedbqSlUIFFn46vItwWNB5mdT+0Hk5XiCR5N6YJ60eWMgNuZunq3KmlwOgSF9IZFvTE5YmP/E+DqWFW25g+H8JrIC+4qVZU8h8qoFOEntb8Gan5nCwzXh2Cf1XJXipmQgC9UwMeE6iorSLm3mlsdcv1bA+L1Gxc51Egh7PKoDfoCfAMSh51NH/4r+nsBfaKnmjiSoxlIz6n6NnLJ6GZdgledksv2OEQ99NWzpFDN5fzOMEOoKSkP8iP1XiTAEosYw6eQtMq51ui6y+V8oEUBVHNLLXqOHl1oi/oYektmOyxg1Hd5eBPwgMQPWCYVYBQ2me0z2N0q1CmVfXrRQVszshaKzTxwLV0jPYm1Zlc8FsKyCo3pWKDEzPfx1B2sPBA4PZOmgMkq9HGsKIc5Sh8FXCUq8Iyh7v8ectcPz1hINsCBKl8QDSpbpcn5tIQBudtD7yaSsVO8xw5o3W2w8pAMcq/1an/tPs7NuJBW4O7gS7Ell7CnYIIZ9MO0OP1chcSVMbY/7+wVQ3c1Ph0CS5DvhM9iEbuhggBGVX1/BkWed0g1XrynA1m7mAWqZ34Clk+OlFhF4Xr5DM+q+Df2FUpysy1PHwPWh3Bd7Cki3d/K+SIDBJFHYxHM1tdUQ9P8ACdSHBQ42cYV6Ner4oK0o+2bcghkAIyh3zSC/X7GbWlLV95QLuvuZBxFSdTaYvSj0r2uByPQjOIrZHfhskOhfTZLNV5v/I+31vwyL4YwQr4BKE9JWHmxPEU2NFd2AQJNUpReb92cAt6hVXu12udLBXx+UfDnO6NARPTnYfwOZogS2uprKQGAqrqBMz0s6xAOG63e21z3p5AVddb+mqmUmelJz7GrVSz4MX+3DAav+U4IzJ/vfFD4V8bMz2iSD9RfPh2hBJaEn2DVku7rloC52Bf6czw4OegTryGK6hHumSJSD0VEmRRDqwj1W2uEYxgZ5nWiiZAnV/dNw4FBpjDYnGf0eoeCdV8Pf3H62OcAeLd75SYQFu1GDX+cMtaUuLwZMDCOr27Rb95Ax14Ok4yS9rVDbjdn+xXIL3aPCmFwpGiWj9X0IAjxkwPU5Q3DpSKwtnn1hpQAHb7VRd6vLWiquGKNsKhnYAmqdfD848xffseLvyWSPeoFhgZJm7pWnP7RsnlEVszor19i4JaG8SpB6oHAma2sZ+5mZ3BentE3Y5BFC/70Fg4nzcSfH+WEgaTz5RnCIwdZS7qXK484xv2U1QNyiL4lRE8MTm9Z9f+DsLRbSH44Xu7NU7itPXcZR73YXvsqQ/M7WMRp21Afj81jrXodsb9Q04y5Z8/rfzIxuP2ir8htD4I3KKxhmLWsfJjcNtd2OAF+Zu0Xk5asplaF0bDEq1Cl4fZFiqHaNzYqF9z81GWGdijm3fz3qPOQB5NMyT+R2ZsL1jGzD7mbzD3bLkTwoyXEZ8V1q+bZIn7RKYn1tvfVleNiAljTjLegyZQFap55cGC4xC0w3QTTn5yjqNeypmTUB0Nz9/bvk0H1fAwGyw1TC06BFNQedySTkKA+xEaB1s+OtPf8vNkXpX5Fjuhbil/Chk3aYjNnXkLbBhkP9lap4E+ihO27dcATbxoYiZBkNewn7RMoyWyUZnA8NGvJK1xqqCzC46d/zvFAVORiJ3h7T6vpgcDN3ReYHcNm4Rs7EJoFd+h+KYOvM6/67X1RthlbF56AJvIQ+MajL/GbaV3P6jGocoZNP/yk29MXcOXyHSixHZN7O+LQEGV3nun7YTf/97b/vo1VOAa4IsQ0lk5KlWt5o/dSGxhBOYEiIUYvxJ12GcFcx/paQ7paP87MjAZap+P+83+Q4VS3eNSfqbgdpP6K4E/0bqQdF5dJR7BaB6+Cfl/pHAAGnvC5dxSwZQ/USFks/Jy58WdOUDvVew2S7RaYhka0f75w83bkOjcm39m1XJQs3Lwnvyl4LvXNLo3SQqH+kv90wBF82nuYhuT/OHnWDEiTJdr9jPW5EXSuCbhiYI/7ArKem3YqEtcoepyX38xzCcOeWw/b21FwV4w3AglAXiU/HHy3XP8Q30ulmp/dZdr17Sj7Uo5H6AniyLVct9H/FefJjOO9Q7V4rRBuqJhnYYka0DT/128VnaPLbpAyM7UmoBjeWJOV1FC7fnAAEUC8ebGlie2A8ttljQRa9853NtBJo8TzOAGccfryT/RCX+KuNLf1VnJWN/yLjBCBSQqE0y0evfvtRXDUgcSFd0Z1L4atfYXv8p9KnMn8kac0oCRnc5ELxb5fJ8Gc/BLRpnngei+27SViuoO18rmoZfZ5iBqDb5wjfRoEmsHJq9l0M3sknD+wGgoh9Pxwlfn7XlVLp06U1Ov4sN6XwdVlBAx5lEncPMU7+3yyp8e+2w3swMNS/Ht9iQDafRMhcMS3TpXHEq+u6LWPgQQsJ+tKKveh0nE1VAane0pwAAAwDJcOncLZ5JDBOkDSCNoI+BgW2ZvWZni9sOftxm6tQCMFNBOj4JA9tfzIlbtsOk/ElvUSOU+5NmzB1nc+lKOjVhZVJSOUrJN7WZ8wckc1PJWAbjnuonaTtW1DCmGpAWuRljD6TP8B8PsQBg/CY0Qv4wf8N7FJF5bjhIQyVBHIuFlSiPxx4ByBkPKEOj8T/4SrMU99lFC18qhtoOGTtsCrzhX06F7LTaPUeiV9YKbDXkQeT/OhcbGF3aBBs1wfheeg7bun5+qxbNvek1vlk7XQGB+t+KcIYWzUwa4jY1vbOgzuysDafmnG6b0jKUw65fTec2KFmuy7wT1wtUlvyRVCNLU3BgPHwU0t4qDyIABxekZR1XB33RDXoS2DGxUPy6VyJSeeKjoPwMsQUDqmMNAaZtjp5QJVPUQb0PAQPGjatdpEU+8B3cPQ3dpMqdHWPM77DNULyhilaf6YBtTCRvpb5SSFMPqwlAXk1G7/wszS82V9s/ocloI3DJMnFawViSYJUweK+9sSWwimrpGsjDWDifDHLKf4gNRvWBRrd58JYdUh8WlyZ4n015oaf8XsH56HBCmEnGbUoYRwVr7Gm6XTvwRpICJ69181Y/ARZLWdXNI3g63CbJtaD46xRZ7+o8wtInx6z73czSAV/IOyntClftyehFfrMng62kvgAb308kPsgLZeiJwRKwbGpbaeR1tF9ICGh/flC+m8Vms/IolcxEGujvY23jL753wXp6X70aVl2Xnp626yRxA2oIUvsBw/bdLVB7K3ksdTGdnmaHujP8jTFDznEV/0wvPtT6mB9WAWJbfd48vioC8JLOF3rUi9exzoLHpIQ1gu7wpeWQkz60yIBl5otaJr5x+sWqu4xpfeTLS5l9GXsr8T+DzBGGdYqXuF/OIWbsAAKvXwLmonGQan8i0Eex7yYM/PoNC9npu8w1aUdFiB9as4CcZuPAhvH+scd+Lu6tamuzI8BFkzhnOXrK3EY6hegmcF7nTm5oq18FfVHjEXoMKWvG9gmtzZOdzs5574xxRLEeYVVRXAo9kvxxSFV68o0BA2PhjAbLc6r/7Xuztysl1pJFqSSL/XtjKRQMQ0vkiIfyNi7cFm3s+ipBvY7mMMQJojdN1Qkx+RpH4hpcW+xBHOcaGUjD6NNM5vKoVALoWcJ0yuTs5N/ill/iFucI1vlnBmTbpwZ6K+oS4d+3ro+kTJuWxML1/djDGUvNp2uaoi9hGnmVd3ctMNKrpzrp8rQl3k4n0WbT3F/yXrkiN1bD9VR4Oo/pgndixmyW0kKkyajb/gmFTcmfmOlgvRQw33xYm5oERILel/KptBbY8ljoyCyrcc14uhNmqIVUtXz9APCkAaXHOaQFUPepEF2UfUFv3znjJF46SO2Biixvzfi1SxXVN07r7e0GEp1mGNU14bkeh70jE8eZnVNkEcuTY+lyLiwMe0bq2BFR4njmYrdOlNFCT+QghNGT+tXNjIAD6uRaTdwYTFRDTtC+V3DjJVSsZd+UNdK7Q5rw9X2o9O1AAAMfAAACPUGaJGxDf/6nhAEdmuEgpgDgAWHXFjUdjTaZPezzaVkTBBILBubiOBUBF+FWZ1iy6p5c0+1xU0NF3qazS/0C0xguHTtTKpO/JHUa3FvHTem2T7Uk2tvZkKXBuWccQYOSwk19agzoFsupK2M8gYfHhF6Di/jpZ15fZTl14FUHBhz8R/bM33+nc4vEDsiXTQLusZrK0PGKawr+cLOWqcETvaN/izsUDVftOItABKAECHZvf/Eql3/6EMKleCjZ3T0+KnaSIQEhCLiDhw9JuEvA040auNQrrskL9wlyhwPrdZ9Psm7TstB/aG+ic6yUy+RBBYNopr6cYNWOx5IXKMgCsLdu7m3qH+R0RutQiJUtiyBXuanPYK4TJEXqbkJNk0lWtDmLct1HrUn6//g8HpOEphwLU49bLcAPbv8Fdr6RTcyrfpU11YlvZf5IHzUPqmTqxx13qIrTmlox/bGjkyEGNWzy7KyM/cEK28mBL5UWFVoE3L+goECvHqtZuw2/LH10s7jAIV0lFTTgUgi4TtXJvyOHMuwcnAExgJ2nBBVRUi1NyxROmOh3HdIhVJEi1P7cXz5whSSk3ZRWiEqORt7qEAOqIn9e4fYxRjeKbrrd8UbYoRuEJjvy4xVmxrTXY8ibgnqyxxAvH7mF+z+WafuBuDfAVFl2VKzyYwqVDzmwzPpHjhRY2aq19MCoroL1F2pj65fwlrpsyyjOlufwVwGJSrJrhkHXcxpV8XDTMaz04Wx2Uj36PwnLwtjGWKBHwAAAALZBnkJ4hX8ADYD/le2sgVxDjESn2Q7w7DC32vjYemuF7Zy173GTJsrnbB4DQ1na7+X8yRnDQ/2/FeI7W5lpepTQAh+dpfYRd9T5RlsMiBFMNH/v3Ep0YIWOvKp//lsdtQ2oSS9omndVLK/OewjOv+a2aqnZvJQBAwA9diOrtk0PEmmApp8JH5bZcUjpVgL/ONVfhsoWTmBKnH/V4QbTBWlsqOrOv5R0smmZbKgKT9nR4GJldznBPwAAAJ8BnmF0Qn8AEVaT2+S+wt3C9jGDBkZeDDoPnbW8Z8uc9QuIkPiPVdAnye4ao79xyl9b3uDGtwDQAOwQ6E0vqtO5mm5duMfSe0IcOscEGJs9NTAl9xt0xX+d13cKbUqVbA6uHXFj/7609017q6xLSbwZHlDYAZ1nGOIp5MxaBJLmvKtXIpVBxfNOQAeY0L94pYiTp3d+CrlG1+rfotvErcAAAABoAZ5jakJ/AAZx4CZ3nRrvA+NiBSeqrcLXAZ09GmGV2xUBDEdp7BCkCXK+hwNUfABwJJu8vh+j+0X3SpkQu53tpUnDtl/v0wBwI1YwdT1SeOaZDMBx3r8Fe9FYMpl65ndKYEdL8Yy/yGEAAAC3QZpoSahBaJlMCG///qeEACte8J/jtQXwab8KAAk2T8+HaxUS3+NKCYywWWAlaulgQ79DkALqk0auF3z0pcbdcXzCOmmg4qPMUXqV47+m36CfJS0DhCc/mfj6M4H/J1fWTIaxeN3taSYyglc+c2aDfibyJUK7B1isnwO2PyybWY7u/uWFiBz1nlPvgIAKfaTU4GmbhnE5a0aED8D1GbKTs8MW2OgIHaCKVa1y0IX71Sjv7zsCf7nhAAAAkEGehkURLCv/ACKyO5P6fe19vwzGvFgPNc6eHoxTwcLmJ78Ygpmsn69ACFL8EvcauRComGTwZMrOgUpzMvshKY7XmCTGwJ5XYUKJJDv60LY3FO3695vvZX13GQiqwqJR08le9DJaF3H70EEqVUPjLmRLnPPWTCVzF6ckS0LTlsZellqDFlvQ3MI2timd+2iunQAAAHIBnqV0Qn8ABm/J7yLs8k83xv0OG40BPIv6BKUkUVvdcIJZlRUYAQcoKO88LV6IdaxnKGrH+8/vnFJ3SfpYxW7C+B713DuOCfmgNIKzxLPe7+xr3DTTVRCD4bePMxjpOEYHkKbM/W64z0f03pfPJRj3mTkAAABUAZ6nakJ/AAKPb+BrpiuE5wiF9PdAoKs2KfbE3zjWrEg0AG+1hELM+dy2xB0fuXeYCa1fISiMcLH/Og1sNP2ysccLlUhKAwf5UWnW+zXbswmN+fFAAAAAyUGaq0moQWyZTAhv//6nhAAAAwAAT/mXaOb2tQ3T/T3XMiAB0HLuqqpryoaoV6wIJvad2dvqf30UkJMlOvNzs+Nttk/DIULRj7w0fyFIBVXGz6FOtH14eNZ0WUcewz1VVcLq8aW8Ka1qQ0yhf/QjchXBTYAnn+WBYF4pOazQG2ioBnOnD3DLGIMc5IyVt4P081QqceEtcOrWP1AnpXejjsG8RY1x29Eta2zyjfU172zHKQtmgKU8IwdYoKsBNvEOvKZ9kAVWrjKsgAAAAJBBnslFFSwr/wAB8a9EX66BsJMK0RmG3wORbOb63XdJwxGNrvgrNm9JbAzABw8HW6cpUIhRwdys6TLkOey38FCHY/4TiPg+vnu+ha254gJvG2X8xtoRoUlt8fPqCtN9TLmMBgKi3QntlXpy390T33ogdQcb1c/nFDVEyNc0TOVBqx6W74zZIoz01GbQyMBPPbkAAACDAZ7qakJ/AAKPb+BrpiuE5pQVQAt46niGuaNN8NyJpr4BinnvLIUKvL4bk/LGyBJFDRv9BM/ekbwimvqv/eQ8uvy2+D069EocUn3W2yjJoKnYQjpLHt3Db4o5CJt0ibNjvXP95+cWmuiWI51m0IC8//XRYLi4SVcGd0uFEZq5kYkdXcAAAADOQZruSahBbJlMCG///qeEAAADAABLum9qI3FtuMHVp3yvAO9+LgAO0DuJrXuGT+CVaz6lhgM70mhgfkIWpLj0UQVK3ZJm6pp5TW7UbwP/f3gToqfOOn+z4RRi5HBS2ylYHqfQ7Tv2IIp8GZ8iNxFjeZB+Yuxa6suzhhVUVMoVQPmNzcuCffNzKmk3MQY8Rw7682XNkCJWLP2cziYJXsx6et6n3inBjUd0T7SkTXMCL8vrgGlLkV2JO5EgNJ/aF0VBv/6qVkUohVS+W5qtjYAAAAB7QZ8MRRUsK/8AAfGvRF+ugbCTCs2+77g117lM9vhzUSLmJA4ZsPmrpEa/sYX/jZzjAB0pPFnAnbvfYPYvpBlDbtPPlfn8+5i5Et9cs09dl8qEwXYbiUgFfvZt+AWdelmjO1aCqwqALKc4w8HuxmEgf912h9lUcSKkR4+xAAAAcgGfLWpCfwACj2/ga6YrhJcZHH2pjHKqnsiP6NrHGGpNyvlfG54Q6c3EgAICzRC8zeldXFQ4RZRzHWS1c9HbTIAicw12MOo+st777WsBr1ZxATbb5R1Gj++Qyl/zo2pEIY9jvfjROaetaNvgLjOKHiSIQQAAASpBmzFJqEFsmUwIb//+p4QAAAMAAEu5B8DUIgGsQjOV+3f6lt0vyOqDDJKrDZCpxUD31VSIHq7MtMJUxSn/713tXqmf97Z0UxymSA7kjmSiWt7CgqHBAb78hZWJVy8K8qNcoNAbvL9+7/GbQbWv0RfI6x1LHAizbgkurZal5y6EZ0Pfk32MfwQD2Rg0nL7o/SYIpD4pzOYQta+JcXjYrbROuHHbn3KLcHaPyq/hXM2WOPPSyGGOSc2w/sqj211X3jm/G2YFCqCPOHdWp6YlLSjG2XXzNBTvyhDNsv+1uXi1j9yUoCdd8y4VP/mPUtlXkEkDnW/BBsouMccRbtkOQaR4nPnVJz1M9+9SxITyCuvl/8PJwxyH5HdehgAjgvAm07UvB3ZxJbicb0jdAAAAnkGfT0UVLCv/AAHxr0RfroGwkwrN7hijND43CBAZ75bhbn8L7TABw9mDUEBRzZT/Na1XxJEqdCxYNEElkRS9zwCKI2updG/xbDmiCQAlTp283cG+cz8oQxElEME2X9qQN8KQwJgWjHt+EMgAZta0NrNNL75iHDyV27Cg7V1zXwx6d4nbkhHsTZknOI6DH78rYyGxxUg+6gOs3TVB+lqfAAAAnQGfcGpCfwACj2/ga6YrhNcN8TDPBqACdWimOQFrUnja9sgO2o+sWcEdjgm9UGD14zlr8LPmpOltSUvP7BnXTQGQATbAT9kl5Pmg4T/Tdx4EO80jghAVCve2QhHh1kWhxSpJn0zdq7wrmb47Gr5J/3LDrGluXvhbsZdkzdvNUhUI8goiFw4E4K65V4gk/erJWWbe2Hm0yJg56psYhhAAAAElQZt0SahBbJlMCG///qeEAAADAABLSGeDgEzZXGo4azJjQ5l3CnzGYbAZlf/ODjN8StZcxGzetCWnUrIm2ZLbyX+w/vML5CEysrf77+8d7Wg9UmvNwkvEp7aKG4rFkHsK3/OTom0ivF2bRyfPW2LBgb9RE+KLzFdMkChitLQ/wWRcqWd1K7lTWec4gkYTRg1AK6OetvVxP7bMcPcdnZNlAlVeCgAMEIlUZJ0Safzggzs9GCZQaTmSb5MCxzQEIi06Kv+YsSounkF6il80OVN9XYy08ZkQAXLx5swNOK4yAPVD3a2FE2VoCoU6gREsjwYXBHq6PZCO3QMMGBcdugPkKtkeihSE0YoXkiQRrGlzTVU7K5iWYrpnE0XZLYjDACFb6g+TpzMAAACoQZ+SRRUsK/8AAfGvRF+ugbCTCs8ekZf7X3z+OBpbTR/FHXpyt8oAKHMOxUg6k85tjTKVDlPPPepJTyyr2orsF8OKnZZrwuEBodAjJkPoHMGoObQkxZ8L67xhvIbstFZfgmx5gJaU2q33TKOQsBpdBV2NFV3Xv0vLDj3kCV9DRUJ/UPNXVtEu9DDTG4jhgzA3MLq49HiukkxwD8zGl03Zf8cbnhoXvuZwAAAAlAGfs2pCfwACj2/ga6YrhI8i1fFvwmG3umWTMAAbFg4kJQR/FKpbtNh4Tv77OxtJuA9ZXRx6S5IEoPQiRGVDYtkIwk4AzSeVR8Cea8Wn357QiQQlm+P085LpUtEP+cKBs3x+FpfFyw8M0nyd23dnxNUsRg6PxJ4jGr5dqke/lnk+uCmCHhU0jzxuYLZ5MSMiiE9BgNQAAAFAQZu3SahBbJlMCGf//p4QAAADAAElFJcJ+BI5UAA/aXu4dymE+ZFdDP8rgucJhql7IDJC2Di4ShhiWPl/r1Q2DdoN1tfrELnYDLNOIwWtCRjloz/mRqIcTmGlW2tebdIQjR3LeyWQ0jK3lymf6eo46YAQf0UQeAEvGhjLctZKBFpDavAVZ4wBLhGW/1ujAs8/60XDUtMrwl8alWwFmC63T3U0zxNhf0roWLRw7LyzZ9KULzkhzyvdexYvWkR1A4AMuHMSaHYBf8uUzaETqk07lnrQKoBc7uvtpQDoFnVaTRziP8g/r9EO1S1ExA49yhkK3Fffs0/QVrH8o3M1TKAF5uR8sDZ6scdlMbbNj1EZx0n7Zk5II7uBLDyLZ+8Qzcr59LAaI0xMbJDROqF7uXD0FoIrKDEGLp6A1SFr8jXV5sEAAACtQZ/VRRUsK/8AAfGvRF+ugbCjyxBadslG0nDkjGtuVZv8MUvbVr3ISnVGfIW0OGaXvxVu/+8AAOs9Kz21QuzDHow7lftbzuNThkOFN4v+WFcizlXyxsJsByTsAB94r1uEyuuupsHfQP7HY9vc3Of5tLurWVZ7OiJIYYu+bZGHaFvJPAhfO+IR1/NkJy11rTZcF0JtR44Ieuv2fp9a7+umc9hjhcbeOGm77+Rt2eAAAACPAZ/2akJ/AAKPb+BrpiuL87wX587GiXvSpSmw+TAy8BTvt2oDLzSen+KTnJj19PJcAEQWPtNixHcsWgKSzoX3adFb1SG1INzgBMVh5ZmfNFk3AsAzOo7+2g8Koyl46NBw4MllGbVGeuEzVvaIB2Ovj7bbLQlQM2ixJ9CQzI1ORlj3a/auOGFkLesBtAdhfP0AAAE5QZv6SahBbJlMCGf//p4QAAADAALWottCW8D485AC2isHJ2LIytRbybQl/rabuPnnMvutU+NcoRKVxF5Fs+2Or5JpkXLJtWQhCzMWTcXKEr6oJHWV+6/6CsYgZaJdn+t9662NjXaPb458sXL1HmVd2fcGGiYOUGHxO+lZWtp+VYPIoPNbz8mCEZtv2h+8tUAmc15AKMa0QvR+bJkkMyIlJl50w+yhW8VXQ97uJd9tbYWkkQaBEs8h8Kn6ULfb6Rx0P9x+alJOHVlpLcS1B/ZLziv9uRVYOdGPIpI/O2Dm2kxebQiOptJQyVUOYU6O+vLTQ3ju8SBjr/ymUuC0Yc32DwDOOshF9ynsPxfM7BVp8MHTKriT+jaDun+/31r5yfnT8qdEaiQ+8oJzvkNEEL7eizYUgCLV7HfGSQAAALVBnhhFFSwr/wAB8a9EX66BsKh6SqwZOcH6uTm0SAB05SQqwuyuOoYangjtifaD+BiWhTnqWUpO5Bp1G0m30UtFNDuoANaflpEKohlhwSG5/RgAW4SR4Uf/D1m0MgHWGoF+e60Ns0OYLdHyUB34DttSnIB2KrNJSw8F8/QuNOJWFs3lgs2eEtNo6m+ZYo/dxaldVnt19fxY1D8AOhkDhc7YNLlOj/d0XGRN49vM5788x0Qx1sdAAAAAnwGeOWpCfwACj2/ga6Yri6R+oCuQAJZqCjStkyFD60Kmo7tNtrB9X0nt2NzdB0rJNrN2Utr5Ne49vjWXMHd1BPdg7fn/NigJRJEznyeNhd0HO/Wa7a/kabGUV0I6LiDyjkcv/MbSZbw+gRoBIvyrxvUfVEm309QOO4j71eKyZxNSAtSmW1hKnGCbWEdXrq51pae2RpFqeTnAkmHqw2uwYQAAAPlBmjtJqEFsmUwIb//+p4QAAAMAALor0OqU5AAhJMywG4c7sFIupYin5u4+jvsMFQ7KOGz/Fx94gx9AxSWfHu9w8GBAvNs2Dlt3uh2j1KIc3EQ5jV348qCQozj9Lq/oOHt0EhXLkB5F5JAi+Oua33yjOY30kpbreG+F0LLpopAe0NlcsNzMzHY32FW8DAcTglV875Ftr6shzzboeyR8s6PjYc2RSqcDT/H0TVZ4GJ1VBSGdvbsDobTawDyzPYcBjwMDSOty8nW8V+WHPu6CImwMgxoj5KqryCmsV/5sIzJQSYnYgfSXyMrf84lU4e1XlmmP8vZPYVccaZgAAADhQZpcSeEKUmUwIb/+p4QAAAMAAL/wnlL/jQPp211AAHZn0Zif+WslOJmsZ4P6ib8bmjq2nTnRe884abMX8Mst4vd3bCwwMaWJWwTJHYjXXOsyqpwN73gt0fewg10jFHDVJ0JjfzK5dD2+qpZFXqWwXmC2FVGInVMjPpOqlsxApjsB6w2OU4eTe9GVO+AF9YFTO3A+pBVETz07fQzw5SJ5erqh1LH1lftlHZG4ed7L6L9AeZnyxtji2w32Ht7YA0ZGpn8NpAF/ZOUnYQANTWQVBbf1uVoniNnjvlcotButmjDRAAABF0GaYEnhDomUwIb//qeEAAADAAC+2Mk+kCoWjxMzmOwAbVcl3VadY7uZjWBrESY8vHahZNEMmd115af/vM+1LwiChJygyphgO4cqCLeqrrad8EeJRzWt51yyqHAsouP6T+alR4DpQnVOEq+ytxHFmy0wAAKPs7ohw8BKCAYjA0eQt/9/03/FE6pdKI2m0ncG61Qcw99a0HKmokWo33/E+0F3vhp3+1wR6TU2iKPkkjh2gdfuqlgasFyBfA6ZJkivJVn6FdZ/4tT2dOxo/B4ItpnZPXfJz4QTOLWND8rUhIBdFD7onLeHyQbE5fPAbnaCmNB2cmNG0onRNNVezTong1f3eiL5PS2vEpgt143SPCxTZcXY53i7CQAAALJBnp5FETwr/wAB8Y3YDXrDIHKMcaCWKW/hiMDP1DdCiXnTwoYIb7ZPg4Slk3+twAc0XR2MmWORHr/hswNqpeJzK5KcMUxIhFV2o7I4U69xNrfZpKFglosSzEZBt+S0yZGxc3rTMxZArcQSMDyTF7GesqZo2LjEVZ73NV2bwYy3/i1CiJRnpsJp6WBtOtWsV6hUMFZOVy2Gk1vyqBp/+kvd4Y2ik3ciH5QEGJ9T/0Od79dwAAAAngGevXRCfwACjoxq+7G2FP3oUvnoAA7Q6nWETexHBxiM9vK0JKewgZhJYbbz5MRNBI58BXHkg9PkwXG5Pqn+VoBMcv4dU3I2tRtv3jhYi7kQemIJ841cZq7H8P7ZhAvywDf8dJzMXh/kiiNoKvfue6EBPSN2AS3TcG32bO3jfIwxXDdhoxuZ9725ay3JISID2zUiKbI9wvOnn/en8H9AAAAAlQGev2pCfwACj2/ga6Yri/ytAAtjaKRzxCH+uWAEFWKAE6BGYc/iP4TYyDD7egCtXaEUKcOCtvXLV0IaCZV1N681vDwe+E+GQAfGAaHPsowhVC7fjQuRiVfcRLk4/ilsbwhWyJleAReheX5qAnmwKiQNNR4tjHOnEyfG6RDb4UrLeTROfGKUAikNB/HI6OeQoIU23oZzAAABK0GapEmoQWiZTAhv//6nhAAAAwAB2nmCTrLQAF1WmmXN8TBrR8WjGWJhV76nF+bcXSDvCUWIpTLsStUbW/wizzGK/eUtF91XtLpdMyAkD8zJMt0Mu3o9jFsH1DRXI/3SZB3MaCpZPxM85Qu+I1v2dxpUYCp1aJKWIQD3QmYzTfSNpSE2bUKP+oe8e8uGZgBmRWq6/H63adlw6bvB+eEKIrszAVfjGW5n9GRCI0/sAGMyU2EKufIABwdw/uD0jG5+Ardud7gubzfgHuAn6oYBnpRtrlYMDJfUhImHDWVOp3Y3EUDK4gmKaAeZGpLlHJBuMKKh6dY3L5BxVTU07Vm4Iyr6HOViE3TS4lq85n3qcdLIn4XgNuqZdMxPQqpgxydTBLUh50tpAoPbfzuAAAAAnkGewkURLCv/AAHxr0RfroGxsGM5x4wQsS3strIkAtVwktqQAOanEQ9XsvrAhfnvJXwVyllIn2i59jkO8dWuXNlKzDJS2oIFtgZVuWfOck9JRjwdH2R2g5jgtWjoZhH/UNCLUSxgvG+0a45sPByEytsnaadhIhhwbgiZ4ZRIrnpePIlQ4CR8chP7yvc283yzpr1N3fA8TEYlr7Nu+SqZAAAAnAGe4XRCfwACjoxq+7G2NNZkYeh690AAvl3c7yDIqFlEHNEIIfeP/Sshy3vTVaOTkcRq2vBTCsCEBJRhdQQD9cmGCP5Ika8hvCFXMKoYtBNX6Pf1waSZueLFt2vrQQwg0AqLLWdt3VtNBk/baPVkKFboOUm+UubQHc658Y2MqwPCTXBsUBveX+t8N6SKqakgH+KZ+sDKOg59YUC2gAAAAJMBnuNqQn8AAo9v4GumK55lzxsWSQALcK36wF6yrelgc6ZGnkRyIPhLkjNi+2h/yJmYrGq+OdXrg2Urg/hZriJbattcyTyCf8XdZ7/OvZEi08Lc/k8FuwcaTrGJbl8jTjLywDLHSQ7/I4tARA3NDKDkQtv1F/v1yMgT1FWhrNh40e0H3nrgcQt/LGE3jUHCp63y5SUAAAD1QZroSahBbJlMCG///qeEAAADAAHauEUE+i2nABzlyXdVpWfIMVZ3gt9m55omuiwuf/mTrqf41pB6JL0rf5wIbUbyFZZ/LdO0KT7fpbEPOsas/7w0xHO0pSQRxZUIKH51tLXdMb8GukWqpsRqzJWPsejYNWu8Z7U3BFSKsO6sPrKt0iFUF8kZIeaCqxfLzt8lj42JKx28L+6pDr9i6ga3ots7SkcPvr6OaoGgM1lmCCC0/gpgp90ZZ4FvRO13IKjuEs/J6AoAobCXoHMAkeLQW1OcBo0wcg9eNqrLt1oyoqK1TtN36iJ4JeYFgAW+SkbrppSwwREAAAAnQZ8GRRUsK/8AAfGvRF+ugbGwxDR+y7rvYfOvL8+/xF5IjL8zIfvhAAAAegGfJXRCfwACjoxq+7G2NflZK6c8cJbATgA5w6niCoD4l9TxyeVZNpbU0qNF8RVri2vM8MmoYXNyKDN7Hpt58s4gbqx27CTtMJfazad/NGXPKDmyRWLvBz+3oFCO0YHnwKW7OzQrckIehxUtk6RkFqoE37RL7Xde9krfAAAAkgGfJ2pCfwACj2/ga6YrnmYl8WegAgTgwn+cV26mS0GmgWhH6T+GvVjmzaLrF0fS+T6Pr8PbEBEVV64f7qYYnF6dBfvrRfLXA5OBR41ilkh2xKNQsEeUh2FXQCRHJC4kcJNkfoOuZrgAWfW+Yrx+ZvgLaNiZVncoYPVObAQ/DUAXY9FRD+yjD8nOMsSyUwXdrJNwAAAA8EGbK0moQWyZTAhn//6eEAAAAwAHR1z8Da0wA6R9wtJM8qqhy8P77KaN7J8TE5gyL3yZUfQQAuXQ/LqnXmZ0SQhLDtwPelEUPnhSmbSxYt6YnPDD16uXHTdtEyNabKucYOtZ5zW8pvBikra4TY3jrBbiv+2Z6rcVXqI1fCLFseAW7B0lfM0KqkULyro2/HBiEoK2qiAi52MNfYZo7ur8DmlUfaL7si8wMCy7OcwyOLIhVlqpKz9bKT7jd6OLN/NRmZGAtq9P2r/42IRUQTvC+3s/JUQxPxHIUOz8dhsncTIHRNp6r2GPli3LVpFoJQDDPQAAAI5Bn0lFFSwr/wAB8a9EX66BsbDELa4ue6DQFgUgAoAMu86Ow0AkIRiWQ1IzCDfJn0Alwt3u/hLn+dpmp6IvW54S3OrsACxucA/QgG5t6BkFfoVrHo7TYr2fLFOWId5LnxEOyRpls++T6QJgOoyMESko848kDhuPDPtVA0zIjj6TtKTl9lIc6puu0IMCED7hAAAAfAGfampCfwACj2/ga6YrnglVgS0mAnjgZdpckEoNSMYEou2SbgufTX9/GjyobZeMIYurCSZl/9b2gBCMc1BmA0FlH+9w3Pka6cVVYUO3MvrhiVP5DB/1KbDdhmgfcYO42IsXVdB3H5W2+MOON3JK2QDd3vLbXUpDz/qV6vAAAAE7QZtuSahBbJlMCGf//p4QAAADAAdHhOknnDK3CUNL2GFubImFgAy7RmOeNWMlfrTGu5NESrjffbTV5JeFUx7LxI5IsdvabDkQWMMf34FAKW7W5rao5F8fyEoH+tYEVbA1gNyN9czu5TXqbFHYDAB6DhjQYjKmGAdzJWIW40FUkpHFIbB3t+6Mp6ndzH7JeXe4JulinWNXnI9iVVzZ+XFxUTh2EnqpkDGVed8rnwhkHCl/KTjuSh+d3a6iyf2Q4jjzPu9PSnJxv548vOvwFiMWpW3knp3wdLzPrKcW289AjsbAuxyMA1YdAvQl+bHpoCYDQsiG9XkEMzXM4XAUo+vWIQKFXZ7E6dxSXfzHw2hDu+HUnlrBc8YYnk2w8KFOcCjqakZ2zJUA+xCbZzsjZRhRKSyQKYyUaW5PIH1gAAAApkGfjEUVLCv/AAHxr0RfroGxrAf1ougw+4rR2w9jW43FUuREAApDQkYaDiPlGbsEU+gwssvvhGEbqC+MBwZBhPh16Kd8jtzLFOR+k3YyFKqphYSbNxtxEcFRcWETRYo+4oAfFm9T8nFMYgR5HM81KJ4hqLLGrxzJah28kUmJrwMH7trFvhGUfCQwiGZ0w+NBHlZJfFpd8rcsrqQii4oVZ8ZfL3QqtCEAAAC7AZ+takJ/AAKPb+BrpiueZnYiA162bMI3kAC+uNKsqBnfJcdazSz1IS8yfBrRCYHxAn2Lp1oIfPfXcMopRY69tufOfURrm4agI8eJ6MzmoZYITAmRROJ6s2pIP1zTB+/U4mKNcoPlw8PjMokn/yEkUm5eO20vdo0Mf6M3whE08qoeC9oZ9tck2Live5O4pIm6Nd5RTDQL2RFclP+HhX7ub1CvpnUBvOhFBtHWdD6Y8Dh0jrvl+f77r9xa2QAAAMNBm69JqEFsmUwIZ//+nhAAAAMAAuvMudZvmgYQAMsLXCC9jgeAF2fIAmfOB9VGhzfs6j8ueVfcZR0VEZDd1AAsGFH+85X5qffVrMSbD+vRF2J0trqcdcxNz3Mhd4K4NZdqZUJl1tkWGtBDLgX7JM7sT2BumUa1xMf08IqDHk/BdJR4ZRdB2tlwjpQ/2Q2bec9BjegmSsDt1KWeANysL6YQixw+GmQlBg/Lb8vYxmG0SlVGG5PnmqASnq5btxbmecEKGbkAAAEIQZvQSeEKUmUwIZ/+nhAAAAMAAtagKNLWyHTkAJmiMHk9rMk1Jv9FE82JVhF1NXXaIdFgk9r5LwV76/kbN+1jqBHa2EHhVeWhfHz+R5CGbSMrXwBT6JDblnn5EzVFugch+4tqQ3Mhw+tRyuEFnPF16RvaU810KhLgQFNnc6s642w2/ReVwuOF00IlY1cxYPaACQ/vgC/CfWK2pkMlbtCN1Ha4iX83ji8PVTE4NJGvsvykJ0ihUdOET9trXxyYtjhz4eCF4FnI4ClnGKvTuVco1CBQu+VgsmY4ZnNJuJIf0R+BVUdCJhmZIsrwA1fg0pJRwIwL3WmhQM/4S8rCEE8SpBWPDt3uhxK9AAABK0Gb8knhDomUwU0TDP/+nhAAAAMAAtnMukn+8n017qACWhy533IKJqSolEgRhSJLppOOvvc8Cc2Ag6Hs8gDfWwMxQcV7D2c/72rAhzutcL6Vx+K3fSfHio2HIyYWD7cgrMOODHmmT0Lxd97c5lDXL/yaIsqyRis0dTDKGVBlArc4iaTEFhWtCdaS6QcXvlZJODEQKqit3yMYjIowPs0C7km+Io9015U5E8K5xN2v5wDi18BCdzlMpM1TbQXONNjmIxa4xx2LzUKIpBQbWRYyomqpgB2T617QocrbZjgeGQlAZW9k3hz2OX+EijnZybTiUq8SCeK7Zp92amPB/z5diMlTfesEIJsyTimeOIuB8U+io6CNOWHWC/vswqBITXjSRzyDz0pd/uPFvbuAAAAAsAGeEWpCfwAAAwAAxua7LJJrgOGLm+iogAXzMdESWVmBrEw9jkUSXZpuxRctELwnGOico4slCiA/1Ouy9ZNqRVdrE54m7vI0WkiAbgStozif0ioUfYJaf4gSwJ480Wo+US80ADqpIOESFBOM1sk+G86Ps+hQQ7N6b0ex7MOnuBNmpYIsiHerpzYA1hYCSpaVdDI8cAZbLLlnwKMOQt5MlcRfRQEbkM/pXnMKZj2DEbZhAAABLkGaFUnhDyZTAhf//oywAAADAAEopOEzto76whuAAL69ShMlzzj5e8hLw3hh1sAYBxflDe5+InEg9cZ3B6Ze4UaIDXLZVh04YaqXbA2Xw8tVfehmL7y0sY8ecxL7ySBKW5kwoRjrBCy2ABQNCQ9Y5OaH9xxzF+f9tU8ep7YMZE+AeNvRUvSlIdrsaGuusvTzOrzLUuTuu6bdmnXet+FJtX+4PUd16QbHwH6cPaniKnTJT4zfwbNJfrwWwHFbjv4wM8G8HVBWqCPANs2gtJNf3//4XqQZxTxconsXg468/pQaaXlnF+3GwkvvhdhIdj3uneryIdZD5U2W4+9zhOt391OLGjRSbeFqgj5JThTkh4H6/ldeqned/hOEbJtr1dYUB6R3FP6GhDCsgJcw58uAAAAAwUGeM0URPCv/AAADAACG1YLtXgNdgxXdgZklIS3Y4QiF+Vt67RYAN/y15NkW1T+EomeVSordm9UrKaonUxEP8HgWbjPkR1SulPr9NJsy8AS9Iv9UoTd4kGqtNsNe4YB6ZeeUW8XsOOk31GiSWKB1CZJwht1IYXe39SsG0ZfuurD/vT4kBUL8DYxmV9llvUdq1Uq+zqpG6BAZqUMhLH1F354PRaVmni/Vx4Zqd6Yk9s+RR9nO8oVeezrfoFbMPy4XiLAAAACfAZ5UakJ/AAADAABPa3zWAhgNSuwAC+smp3H7uEcdVvc2PYaykPwg9v+NftUXVDJn34IVrCApignZG9Dv/UQ/i9McuXPQiTszU1psgxxu9PwcWfVwogjCJlVD/U2J12yUsAEjBO7rr6zykAGjWnMWgyisA0RBrfRLLlkYTw57dui78C0XKIf6yNiVyqcUivICZC66Odb00rKfjQ6RpiydAAAA2kGaVkmoQWiZTAhf//6MsAAAAwABKem9Oc0Ns8IED35+2brGADh3S3VZPCcNXWAz9cQCqDOPvVmQg5a+ICC6g/cjiDFaI8J62rNVMSg9cLeTabH3gwrvWAJEWnvErT4cTCFLwu2+9yGpPJbjptNA+gn3VeExXUNqbG9fCtcSq2asl9jAtYej4wAcN0YFhcvK+kySE1vLLOesisMciNSytsUuFeAAzJGaNqPHCtqDRepkpfrWEJk+8EwB7kPTfJUfjlYVKgZlqzv44e1IxPHFmHU7aGmJ3VxPH5ZwAAAA60Gad0nhClJlMCGf/p4QAAADAAEW+LF+3lxpK4269ABZFtgCbGiMOf/GUGwiSFPvtee7L1f8Ynzg+NfC2bWfxVEY2fPYdQg1QSVKwURnRbkq9PcXHOxnuZwl1hp0zgvpYAmkdPLjV/vdbY+Ow84pYfcWdeeaiHVN4+QK2YvqGFc7k2AKsSBx3U8PK4ErH7c27Q196ub0A8j/8nacwzSbyvRwxEXHxZgdIRaLZegFJ42mzkGAmbpatLW8UhZrUkT0l5bE7qedRJ56bvvuUOPyvcoZPDRACnvwDwPCEx841qblNkyRJEEYSMS0cDEAAAEIQZqYSeEOiZTAhn/+nhAAAAMAATWQpffnVo5AAhOlwtJKaOWEoOB40I2lyQe6fRMM+cLfQkdqMpXwm+yA3mR4yKkBzp9KlaENNBLV1Z7//n5MAvyuI8Ur9frBq6WBhjXVf2cgOIpYLJOznaDTEcwYGJZMfmjRXwj8rVA4Ohbpn2xgqMopl+N6tGEtR38bIylMgCnUAgkQ1sawpUfdCzQq9bFyozk1K1+qnZS9lEaJka3mxzkPr2/FbRLHQ5u5foA9+45zftlaliMlVd3/Ak2uDAP0yIZj5RcmIfFokBkd3oC/225YJyCBVVw1aOLqUkIAABYJJT3rFjrKPqtu59kwpbQqa8tgzIBRAAABAkGauUnhDyZTAhn//p4QAAADAAE9rjc++pAC3iiEKXVp9E13+V0cA7a2bRfMrycUF0Hpg6mtXrwveuqPp0Fvu2ah8yGbKDIuTP4vbCZbxqgM/aHnPoBvQlvXMhsYiWLmKWezhzg/AoXLoSn1+gSim818f9TFCOkh2H7oMAzaaacwIZ2U8jUHijV7Kvj3AfF1A+iIZxLjj9Q/PBwEVBZGCo5371bpo77m5/bT5Nr8oE2FgUIpA1VTx7Fbr/VeXNKexHnm8ISWbtiQ1iACg60qDy+YI6cCcladvvT8AuHPKTDpHDhCz0NjVHpckdKKtrLIRxyHe7J+oHfn0K7W/bXaN7+6+AAAARtBmtpJ4Q8mUwIb//6nhAAAAwAAUe2OHvPvjZsgA4jl3VP3xxWMAr1+jHOogV9sZROKsRA9jTf+JQr9lNbAbm+pkubeYj789Ik+qws6sMlOmV+oTZIuCHb50c2fnJeJ99sMeiFjt51HvtZ85/7Yn0YEoLoZrha1JX1kCeE1q3UclvOuC3kND74ZF0U1WLIz17H9PsvV/DfDyIzaANcujiaNwpCgJnHa1Plvjs5Qy8mIyQZywyL53E6EN/LWGk5FhYrjLt8Sig18zrWUB/UgdiXu5VkQ7hfeAhR2yGsLkbAyQQrI203GUUjvXgGGhGKv5n6fK9fZV+131PpXEiLUCgzD2Iy97kwoTn1Wc2sjOnD8VAzOp3GQFG49iHD5AAABYkGa/UnhDyZTAhn//p4QAAADAANf/+0Nm83TPZmQAMpyDQpk+6bYvBkmDM4eg+wQQ7HmeFP0g+8t6LLKi2X48rQMV1GC1gknT2xrwdCKV1ZrfEAnTsPABxWQ+L0DDzzo2w3bXSGStZGcUNedBwsbVx1lki9sRraeN1Vc5vFslXQmip6F6ewkDUFBoc3GJzFZjNolOC2xVvqYxkKZ7p/8XCWtHBsMcwYhPX6wa8GfgaRx7J0hvyWLqSYIV15D8p61IANOdmwFitpO0Xp/x9hRLevUHiHAC6JJF/lnSV5gs3MNV+cv4jh5oL97c8VIQOtU6TAVW1LV/D8CC2yGLYdwy5Q3RSPt3H1VUTOMaC5Cep4Yv1uNUoLRAP7TzRymweVEVsQ2ary3+OoIqP9K0OT/pXf/Ym/5nl/QFFvaDH20KmTFoesHlYLyxDjfKI7LlBrxGqMjE5n6A6CVwpdQVfZI9TyTwAAAANVBnxtFETwr/wAAAwAAtde5lz/2KS3q6243+x4ldOIAGiuGCjC3/hfwv2YnOUlN9nLnjqkTaj0y3tmnTTkfGVND8l7WQAQNtpK3jNOj+weqqdl478xlNm3JzTa8stdtZgHStWTog2YT+R1I7+RNy7/OuWHDpae4TaoZ4H0FJNeuXWG7D9N/xOziNqKL+U2Rwn8PHKyVFujoK7GJxXd10i4AM2gH+i/EUS17NTuGD3NyEcRFMisaNpKUtsKPyPNl3MBeL8U3y4z8cuTr8BmM97hHCSaydZsAAAC/AZ88akJ/AAADAADn7OPDQXgBuoAeIiuAuajWsLNAi3c0wElcLVKXDYrNf/4akfPfTtCgwB+C6ZRcj4g8ixif1w8gqPW7N+mkeROONOZUU2dUPzH/Pl0+6dx5LHGLMvYPofmJlVJjRNs5MIDZuE8TtITWHxRK/QAvxhA6f/MK8W88D684LDDvMcY/Xy09Q08jlso+9Ej56iIjdVdoCV2kmXl4lE8vv8///tOSG2wovUi57O0Z3WBc9MHwUEXCQ0EAAAF4QZs/SahBaJlMFPDP/p4QAAADAAkohZY0WsgATRyK7PmBrl/I1bIU4tUIrPt0DrL0/CYG6szNczGcpgSW29UJUzKCp3xInhHgJmR0MZ1v4UrOjUevY9ITyoF0PH3UK7nCEeIfwbgE2WYiPa1wlBa9viwWw2eYPKbl60Wj7R1viFyIXv8SRu5vOygmxw2RRRFgTnrjPaSu2/8nVpAzDQmq2cktYbs9nDC+kfqp/T03mnWwWD4S6SOx6bD3DPOyOeA84dGeOJvn7WpGkkuItnlzwLGS3/cWHUJ5vVEIeV9evoE9zBkUWeDIKc1mcyknhB9cuK7KKdIGNqElOxpUUko4IZdb983byFzwenBHM+584GTdUStd+9zpZws6w0onYTUt6o21Y+iwU0SA6f/3Fzf7ks/UqY6JA5ZFT187PFBQcWQUeYPp7h+zpLTwROS+JRjEItruyXrQdLivDlk0r8QhCQ7G3pZhrmVjH+HlRw3DZUkpBZAZG9UpwAAAAN0Bn15qQn8AAAMAAn1utMJMTfGuweiBkdAAcMx0AaEgoqyOoSL+n9/TDRagrgJqOGG59DRFMwmbxev21+hmzNTL6EOdqNgaOoY2+o9nxgKyhnNVmPU6Cf1zi+jwNh/+GOEttD7CVMNtPWb/LBBlw331GT028Oyjit5fMME3UjKgbXJ1fAa+Fypa3SMHVVsw+b/cjeEnuNd3GApszCO9ZTkl8CiBvXeiaicYYiPForifnbodJkwsp3BEVjjGuhdEueHNzH7ePMf6HNoUycRfu6Y5I8Dr3wR79iaLjwiuYAAAASVBm0FJ4QpSZTBSwz/+nhAAAAMAGT1z8DQRADpH3C0kzyqqHLw/vspo33Jry3umWS4EAahdwYXlchD9hulguLv8xbp82hJDTyspPBDGFsOEkberQUNinEqQowQYlA87Lfu0j/NQWtO0gGq93gEgsMnRWHVMRgnzfFHtEQoH0cmJi8fNz72VYsiKT76uaQlRaES09HspvwNsfrfI6vAYwojJzVnrt6pYUzzOfGqLIcTO6SFdddQfepU1hYmMQyaDmRaNj0bLFmpzerp30Em3NN6AZ/xM2wrNESmJnCUQm/N2lkaK7DDagrb+0qy6UOu61tcU32DvwLS47Tke/xJ7ST4NOZjzQd6D2Nklhyg9GHaC1KlrBieg2msQ9wM67haERET1qu58gQAAAL0Bn2BqQn8AAAMABsHgKMbM/JxoHCif4yAB2hBc1JsyrN3aGdqs2dQljZz1A0fet/bmG5KzGUYSjwdPmciuUZJskSe0QCENDE9gOAnGnxBO9folYg018JgQ5hC3nTjGpeX/VM6RO8YIvGldNU2zA3NPwReLad50uXQR4CZ1sH4gN6OEn3bRRfwgcT0Tr8HUFxPOx/q8PlkngyaU+ayrPTBWDkLWWIig7QCt0HwLemWGxjql2abkf2sb9+ZuSUAAAAEmQZtjSeEOiZTBRMM//p4QAAADABmxnO6rphLQACdaXC0YEF7FagjT6PvPEUI80TgF2/tUkXbB6SpAyKGv+IYsI35DPvWfxcMENkcgb7+gldJhrip7iC7CUpBb6Q2YCQH7nTLZmso+sDjZIPq8Halqo4WD/HM9Kk/Vm1Wix9/1slKaxy2QhYREA824k/EvqYSsPm/qCG2ucYLK1zti3QY5ggCJDtrfaDwqkKYlPWvu2hyKOspu15a1M+ClvckF/m3xYK5fKcYJrsnD/dv1DZXlqe/clwuWeVOo7qyRjeY0oc9VpCX1D67Zt3/RmCdcX5fyf4nwoMivgpwg7MgSv78WAf7EvJ2LGrvTfjhr6FGZROILx1MRYGMfYPDtPo7n/qJRkYhA27rBAAAAiwGfgmpCfwAAAwAG6d0/mOFNiQAO0ILmpLCWPI2bDTRBLuZMoTSJb2RYkj14D3BXg9A9gho6fp6hg7C4lw3hjhjPj3q+ZI06g6efDGMptcLZfOSBCkJUFiutSAWk3vs8CzgCV/rFpGHrB5kOtzmFRg0FLy86AQyxGc72KoIKMvUX+EqfVV6ZxaH2OK4AAADBQZuESeEPJlMCGf/+nhAAAAMAQ5aRjiTQADjQ6C0kBaj2JHlxIYHyGQW841grM07u2Lteg6n05Kb95eKpp2NxurY9BXIMwZkDilfAtns4lc66nqrZlL9pVjE+ZEHBmanQQp9pyQwPfgqrE4IETw9NJ2cLMPUrXqMUl0IV27VrO5GCOVW8ke/dlux/Fgqq0gGrQ0qW9hf/e4jHGQ2iuLXsf+X5ynfTvE0O0H9V65rsQcMMTI0P7F0Zx8YpYfYNO3psqQAAAQpBm6VJ4Q8mUwIZ//6eEAAAAwBFum85qrpI88rKOrgA5o1qknlZae4ln3eEKtQhkmT8vhZL12/1iTMhZAEMXUvp+eI3ziitp9EjAerQIMGtLgYOdKfHfdtZVmQK5FfZdZxMqUi4/WXxxGAhBk+lS9J/wlRhRHizttH/fOkSDN3+Yt9oIGeoCZXbJci2wLXofbFrwAYq+izYUST1s2cjWhZomG8qq6EpDeViGPZqybbo2teAx3R0NeEYevOv6UHJu+zc7NoCEij0JbWwDggSufmkNrZ9L81ZLvQpvhkbhfMKjHXTujutOVZNSZCMNpT3VFpJ/eHk84ihbpDjOBpiofr1c73znAD2v7T0vQAAAPpBm8dJ4Q8mUwURPDf//qeEAAADAC+ugPxYe3n6eJhKkAJOQFdolam9BqXdbBD2acdcxXyemeMN5GP1KgLPDZLoKUNyRRUqrV08kjVz26BiTHMwtbwaAhquBFHyiRC5fb2bih1k0Yu3zsZtqrsrsGPQZ/xCSPaBky3o5+smpWjHPlccPRRSn09ox30s1e1xY92I89tWc+MqN4AFt0Fs+L7lwKgUepc8NryrBEJDCIsBLexef4LaT4Q5ACWZB28wvYTDj1oRwGrQRujc/uNk9QZUFTbesWDK+4rhLu1XmEr92UqE08fF2DloF+SMik5Hx1KcDPJEGuaZ5KpfAAAAhgGf5mpCfwAAAwAyTwFH2LxBSu3Rg6re8cQAOqkuMTa+cH5Zrh+YoA+e4vjpqmxIGYecXZ7jl6FaHMoD6lVRd2e3TxeGhluKtKz2Ez3wN8mqPAGD8SsLmES/Ktqg26TbZhupKOD8ASW82x/VRm+ycVYFc525f7JCtLGYRObNfz3siDZ1q5SRAAAA8kGb6UnhDyZTBTw3//6nhAAAAwAxDCe6okt1ACQ0m0YEfWtKysLPrz8qNez/eK84W19+uSNB51h1RCXPe4Yk7VvMNoUoZviU6O0GOxkR6Nhd1PqDAnHI9cmn+v2MfQkZP2GhooTJTJD0riGspuy+yxil24UcWmeiIdgVyjGl94y14D85EzcCbu/MoKsItoLVl8rNOzOSllTHi1pvzGiURiT4v0aibynV+or1S7yFoIwixEAi6dit7CgjOXear7tBlDJG9ki1v91913ZT4YemR2nXecisb7/pI/5P2O1XxzqVx+JT9yTOB1bNp9Ea3P382GZAAAAAkQGeCGpCfwAAAwAzjumsPiYFOubNgA5v7k7qpBxFGG9CcgNmkT5DiuRQ+ZA5tfbTADP6NDnGT/E6yP+Qc9n+Sz4IqlaQJV4+9WfhTOA6ont0gCHRSCoO3XWCDv8grOyT+IaIvPrSXK+o7I4jH7FtKaFthRhM9LhDD5xyGNkad96sZfaPGTt3hxjFd8t9XEziACAAAAEDQZoLSeEPJlMFPDf//qeEAAADAH70aaQojIAjoV7aoOMl060GRZqbNvevHKr8NKgP/3nNMIYcso137XHB5cmVpLRwFjhhB0DoUZEID8z+isVptAM1Po8vniM3r54ScZIxFz+HFpNvCN32Lh560jF07UScAkrIWlm3AOKOPQLq2PvJgKQZUnW/j4q2gM0lmWRM8r2wsiDKedDRDE+N4zvF55bNRF7Zv8Vabfejpng2wY+IbqmSIpRihQBZhTgZPFj6sLiu7weEApKZheThef/nXuAcLJgxNmYszF8C56H/wMLUh3daLc/FnqsNiC1gN1FFR1vBe5OIbT06RW6Umkodf1C4gQAAAI8BnipqQn8AAAMAhu1RPwP1djHu0Sp+l22yABDrinwtk3729erbeDrGscuG5snGmsXQDFpVEdBA0C0ngWQYVylnJj7clDQCYrhfMGMUWk3Fa/pG0G+EkOjHWbDd7EcoEbJu2NPSXScRn9l2GJ84vyi2c0+O/BncS+KdBMVYAtsgkX7MjzhBXGVf2i5Z248IwAAAAQVBmi9J4Q8mUwIb//6nhAAAAwB+sWdyn5Eq1CtMkABD6Tf1/fDUfK2nJQ91N0RkUzt6DJ9YWhtN4Q0F5Hg1rpuD8y+74er35xWSM5VBTg7J7vvEUO6XrymeD7bepfmmNIgoG2UlKG2SKug7s+Us/h5znMVPqznKrqPK2phUyNxI13BoyR8+SPv1DE9sBHJ/mxS3IDLf4zMQL0qy1f3wtvHWh7W8QQ5z0U7NeTsJ/g5gYjsiAp5bcp3/Bmua6Kb2tRE7e/gzV0Lvn2JfAGRU69H0bNtNmWuPH0AZTK6iWgdz8Z90IYVhXT4fWjKxUiNGNrdVRxEawDEFRaAXa8TzboNn+t5tp9wAAACnQZ5NRRE8K/8AAAMBFddy730IleeahQDNl/M0ExLQHpJs0gAly4upLdwFeJ0PSvs2VwHie9zIC2Wi6thbqVqrnoGraOHnalmvcvDcUm2aKsIsVouMfFE9zSDGG0n8uvqJJ7/si2U9ejheoUweklvM9XXA/o9PFfpl6UFKzYr2HJZCqrz31nXLKmU9PHv/KWgEYCTEURyb2UNVVoqdzYEnPX8Z2dT8z4EAAACXAZ5sdEJ/AAADAITX8YuHmOtkiugsBfc8AHLsAXRDw5W2+vn8o6iddql1SarWoKlSl+EfU9/zeqoU5SXOFHlAO5+Fw+6JFi201U2vucFgE06K8nrgCkJ4onaHiJeYRQ8DlNtPVTygfIQvWSdjEsAat8gy75g0nglBrXhbFjCTSvTo2SAVRhLeZF0dPDj+5ERy06PbbehHTQAAAHIBnm5qQn8AAAMBYrgEvvPUyiEhVgAF9ePe1kimx+DKbWDcz9wIMavxLdEss+f+IJhfAt8sjR/9phN7AupSLFQZlpqkFR4KMdsIv1wPeZIVFLusB+wUUfjN93JPga+hUkNlGSpz7Wy35XpMR+nqGfANWUEAAACpQZpzSahBaJlMCGf//p4QAAADAfBTzHqkSDqlvUAGgYjfOUWTEJa0RXoYlX27OWAOHTaiAUf+LBcX5r+09Ory3asx9wjq0LNOcbDpmJ4cg1vOWejhayvPqPGrkngm/7dZRoyi/5bTVvo1WXKEdWCFsRUUHdd2/hTB7O1Qavg05AldZMofvcO6Uv51C5gQSVUHQpSlBMmw5MLM8JYoLPZUu25XRG6LNm2jZgAAAHNBnpFFESwr/wAAAwEWDKfWKiQbsRlXj4w89/gAJsf1SqI8bw4Xo0X/xEcap73RVT9W7l3AffzDvneefnRR2edQ08VT6RhdesF9GvAlktBPCWddA5KMJTp9CSDAt9IOK4CyDlwuQBpjX0Ilugrhu8Iozw1JAAAAWQGesHRCfwAAAwFiRk5PvqMW+AB1nx1g/qqHtUd6JnSqxpri0cuPF+J6zWHu6XgAfYIW4yV9yyY8h6WdvqMxu6GvrfQDKjeNbQn0a7QT0777scy5iQkthPRBAAAAqAGesmpCfwAAAwFiuATw2ibLwAhOdPEK6tVq7Yqmx4GKfeRjI9HHNPCbRYy3csjXh9f1L2ct8Fj3WQ/jhVSKyvicXenJbtFAHKIVj9uUm7BVhtjxwcvGuGcT+H9b8WMegm+hLHRTi9T8hzis8Vh3JrIVowKwI05GgZLm1za9NteL5U8JDe/188Fopmerfi6yChMcpzP2fH7fZX9mzTAiTL6ZvpS1hU3IOAAAAMVBmrRJqEFsmUwIZ//+nhAAAAMB8uE6BJucGFHZwFVxgfMkLlFrgBx7GSq0XzXiBTmBX4V74xGp96iAGBp79pp3jaJbbIWKM03AUTsisiBjJ7wHyawJx6oj+nMO/PWizVMYmdLeMN28MKwOUnsxh558wKuST2f0aobVv0p1EWQaJWWvFxhlIr8NRMHtp5iduOrMDF9obn7I262nTEMFJV680XqSZnBHnPj+CeieIda0KQP/o3G0a443ELUl0XkdmWqV3uyDgAAAAOxBmtdJ4QpSZTAhn/6eEAAAAwHn+Dwc/HUuuIqCPHwwSf3VsAA/Ou9HnBz1OrKmfAMfSOYoeCTmo5MXxgk3K/+VG/rJHioDQdlj8RZHr0zy66D40RgEpsSlUecT9TnYnfhe/+uyNTBorgoKOlqUz50n9ThNFkWNszNHUouIJ9qHdyA30z8YOwOis04/c2bRXsXq0OGvVFwAYoQzmW/Axe3vAl+WI1fIQLYlqw2t5pFDIxUyBlhoBHOM8zIWysrmyS779PCpSEIVDBtubbhZnYCFwTeX9u+OgDhVoogbtoDAlB2cvp4uBZ5782C4gQAAAKJBnvVFNEwr/wAAAwEN9Yc7cdcPkJ6DYFSQAlonUZ0q6ypFgYy2/LGjmlVIworHpIWpsGYt7RDfoDDFne1ZTXfxkhv/drpXt8qLQ6yS+L0ITPUwpRp1hQ+AG7g6Tv+6dAeDehrOg2Hwp4QUj4YXF34b/cSwpePwlqn/z2vuZ/fT3YKZt+K5IXZcB+BjDXSa0vKUOqsiqK5ECYcWb+3LBy0wr4AAAABwAZ8WakJ/AAADAWK39zamBrhjaIiipqXIX26OoABqrMoVBoE+f4pWqQTfnEZeos6Ot1c5HT/k5KTElHaEygAaL+1k3OxBTA929Rm/rjuA5364ivMJa+PpxuLrOyAr+LjsDrFU700WkDZ01Nxzd9+c4QAAANlBmxlJqEFomUwU8L/+jLAAAAMAt/uaGvsAcLIALIKA4nDapvn2fMe2mWvqzjV9O0SAED4TQYplqOKERKlA0UD3oSd9Ktih0IygIcBlcjKmevXJmBQzICXnxlme5wK8m4/enU3nT3aP5Al4y2iAlaiDhVzHpGK9e4rdrj0lfg3/l9sjFK0BdpU7xvdGaUguq7cgEqyaZwvIWPc3+WGxuP3Sj2Gd/m9odVBl4LAAM9MU7JNzo2G3eqsceeE9W9oqMNZNjirDpD1V8JErbHCCskJQTk3ACVJliTTdAAAAlAGfOGpCfwAAAwA2F8eEZM2xHFliHUgf8/LAA5+b9Yc5CMsIkm0GKA532E+evsyDB5CjcNwmSSP7oJ+4hlqt+zzStQC0hsrLqndbEClkx451n111PhUXH3OSlWWIprCUUfZ3r2ZbbcOT1Of8wPleSumWXjXy2qVbSy4pzWthjKJ4V+419ADDmse2Eg4hup921fieCMgAAADCQZs6SeEKUmUwIX/+jLAAAAMARHpvTXfTkJ+qyz03CQFEgsskTRlMMAL6aAe11ZhrWNjArgn65kciduKLGyWFtfGYZ+yZA1/u+dLg/jT8+gc0O4gABunVQmQKc1aXrS7VbBtU7UlOemfamtjFURVSQtziDYdoeh4VGNONI/bSNzBbQl8Mr4EbLgIqXt0Gr8d9O9kU8+29dD9g4tFF5qcrG9drezXS5TomLaulpzSakkj0DfA7EeKeR6IL5fsBB/NA2VEAAAD6QZtbSeEOiZTAhf/+jLAAAAMAGg4M2zaoXYyzAEe9ShMuSLvb4YZOMB6DDwdKItXXYAnKajCdBuUJzWI3HI/8TSFNxPOTRQdfpP1bIY0rJEU60g6OAHdGj4S8/ecG6+Q6ULSfJWI09Pe3U4gwYnl8GukiugNd2HnwjMewhm2eVO/MV7kb22nxgvKuhapegWtWMXgmLVkpBRB8K8/H19/8ZkvAyq+Ya/Nh2Rzj2gk/8N3go2tYhSi1UTjaVrzn+3TPJT55RakYtZu7WoWxk0k2YjMVH3IAA4MXfOOyWUAUz31fRTw4t+6x367wFgZMSFV0kCm0v45h+7G3pAAAAQBBm3xJ4Q8mUwIX//6MsAAAAwAZb1u+g4x+vU0coGnAUccNuLX3dSgAy5cCuxCkVQPigbf+kKO/XyHO1NkvgP/ugvZl/Ze16amwsUJssvSaa+gv+LssuXgRd9WZk+GPrXm6vxa6ajml4XlP3abbwM+q172XkAFhTChM4q8BlW/Yk1kAFUNzKMlDXEFOqBIq0RHN9/to77G+feKkN3+/MQH1xrN+bHza4aHojmUUrGmGyVwhbDfZE4ECPW/y4XvuxVVARdC6JeoLgoGeX62RBGEa1IU7Sdnlj14EDoGPFqu4HVpuraByl0iHNuAWGQflNLuDudgKZktHoodX8fy0LKJdAAABCUGbnUnhDyZTAhf//oywAAADAAmPxOI/aLOp4Zk6tenbAbs31m6ad7WUJYV9/oMRlsSQmbNlc7D7TPWhxR8PfcdOJqLx2i2NsbXbmjb7r3idB0V7C5crMtA0/b3igI4scdEsxnXx2NYoqJB4czCrjjVMKMiZp/HzH6VxcV+/kShlwfd+pL78w96A3KkuurbqXnW6/QrFmZFQ++Md2MDLTpB9DTbGNmRCJaZsqzuQq2uZU30Tbm1IWyxLlOvBPHJZRA16hAcb5ldArCGpki4ukx0SjgCiZzmtQBb1sw1NbNpY4F/T+/95uFTQM/MiiXZuQgmj/KwnzYvDGDul+FEEqXg6opw+mKJYZ18AAAD+QZu+SeEPJlMCGf/+nhAAAAMAA3fCc9wnUpR/hI60AElOOM1M6yduHtkuAk5HDVyNGxIb9oUzs3STVf7ODttpKyv7YW755xYJd0lG8yt1+/bStAm0HinRzfFzBjh089uuj6wV1J0j4WaWKgwa8VpfCMBxFPSv9nf2p90BG9iWoL+8QuO08xYhD1OtxkGOZ+P410jkeeVT5FjIFzagh67zp16XQNKlsAvZfxK/kDP2aRV1y+HlpZD2g/fYRQJ2Dmbu7+T4TNtfCrxCMpvNuwYq5C7thT4dE4cbGiF9aL6RxtrRhBVatV/oL6D3cBD3MS5md8HSEo/FfEqawzlO3KQAAAEtQZvfSeEPJlMCGf/+nhAAAAMAA1+h5WEs6QBEwD755RWsjU+xgXXt7aDeJPILqzo05gKeArJHTfAE9giFrmAo76KMRZUceAXxP0UPjpY0X7dOM9IL7sIscq3zmrc9J5H2Sztt8CgBVECLSj1DvBBG2co2VYeUSr/4R+hwm69fdw3qWioLvxTENpchtOz1/F516UKM8wEK8HqA2pAi6p1cFS2At+KkbHRBqYNnyON2mq3YpS4T8iSoa5QdnT0W0A9NssoPAQFH7C4sGvrH2GMKal/EQL4pMar67tr7rziT8cLTH/QLJms/0e8bfLLw2oKQLc369DWf7Gs6jC39kaI93inagPT/IQVmTLNIT9MDurXhGe2InY1+PrsvIblFXycec7+bf9ZuRh71+Ovs4AAAAR5Bm+BJ4Q8mUwIZ//6eEAAAAwADY8J0eiZ1WqtqPyr91D8aT/6joAJe/IwjKgR0rDnXXo+Cz+j4jHEWQBTJInYoGuUcGed8hxGkZLO1sukLuaU262DF2/XHTEU2co3hvDvm012Ieh3GfHHtFv+ahMKo0k490CPl1PJ2Mp2PDpL6iWaRKjwwO6uMdK+EwiwdqEXZsi7Agms2LtiCJj17WGrZPrdNEpXyFHwGiJKiIZPPT4LQT0WUA4PM9HkvlTy74xbs9c/wGiqWFBzEqgKx3KYZLoeVVkWucpXIAdgKDOUuMFg0DMh0eb/yL9lDlpZ0m4AY+wqlpfaebTus6t1HSuaTNDe5Qe7CNwh1ByQf+kXTA/tDxp7qciqx0W6QEnfBAAABDEGaAUnhDyZTAhv//qeEAAADAABUeX5FTtBimmAAGhH0QoHYRFv5EJzjhF8DRJvgK4YhU1FHFKzAWbko2JOJTMHQcejoPrzDXa4wE0tykvffmmuuJyUgUVo/Kv3Gn+jEpLd7u0JMMD6T8bIsDAPl0HxzH8PW6V5+wWr8kc6HfLypSRJDbkqA89sjIyoiT7eLbNLWy6KNSucpwNjb65NIoommzEeXVQT0+Wy7Sq3jk4fw+FjBh/I8pH5R8fHI7IULuWfP6Zo4tAwBd6lfyilNZI/6iEGYX760DKs7VCSFM5YIuJpz/03TEmZgIboFAGRpOHQFBTHayHUeREU5F1OFPXcwxTa1Hrf+5zVGOcAAAAFoQZokSeEPJlMCGf/+nhAAAAMAAT/3frBi/hA4CwdABxvXgtI6Bv9KS5Qf5XRfZmktp3DQIJcPj2iwyiDEpH2C2wFt7l/SMyLBkXkRx/NHVqwn8yjmWhKstMSDpmPxghVROHJemnX0UqsstHJ5+itPtxkWtPIpJYFJ6uAostfY7C6uYAMfOkgJpEFDDNVksz6CQADlG+mHKxY1qsXuf+5PfIEcima8MWrBftOmr9xxt69/mciuSypxp8pxJz4ArV9k0A1T5vL6SQEPPUJViVq2ox92jlGqmgcayT/ZruUWDxpSHFHOrZtoQ/qJpIVZ9A5AVcsrFByY0Jk9wsgpBB9TH8nGcLoIKTjZBF2WLQIiQX81iYQV919xJKY7J1GSrpc9Abnr8TYl6qGJf2lExlJcJyYRvElWAQBqVx++HAsuss1rU+YVOWmHr7zKv2Q0ynRsZmcspACv/TzlGVdoSvAy6jaDHU7KpKOZAAAA9EGeQkURPCv/AAADAAHhWLIYD6Vf4tWG6Y7aVzs92cAJpjb+WPRubYH9zS+3BsPRNjM9loLNcOKO+0nu1s2ZvV0nD3qr4Xjyll1zi3Py9fOoVSCFcC4T7alPvhn7XHfy5hklyxEKAUpg5Ub7d1Zw2Rg9fFfMYj1GvEdeJYtGGMHriEZxM+qdC5wKGQl+85u367IHj79tkh+wAJCWCOFRrq+FWRKbx9ciJqqsawMim9QrJAEq89VVwAaFBuZLjFhLTNKc1NUlRHOASLRKExV4hWL0eV/YVQ/8PumYbT1cfWibjFZfoCw9/GhgCzj9kTW74U6Bi5wAAACVAZ5jakJ/AAADAADtvGWg+1j/kYgoFuJheOQwjACFOzQhSjAbtZpTTnWkXxBkRKVnOIMEQ/vD1/0Y1mlktFZWk6TS4HoK0zvFeba7XjJxQyr58wlnoQGhJ+oT+wqWWdoJUIUxwg+7tI9GJlTHRoH+3CqOT77YLo5hDK5DUT4nopWyZ/8nPMN2CVHf/w7kF86ZKAcjop0AAAFhQZpnSahBaJlMCGf//p4QAAADAALXS1L1tYzoZ2l3gAQ8ZT2vYul40br4dt7Y4Slsj2wOD0oNnsyAaED60FxmIhzDubt2zj55zMFPnuEdyWkLD5njn9/L9dbu7vWmfjE94QdBw+cu9P6e/Ve7VZRMs8SZXUlbpCO80OMbjl+VoDQEyKaDJ6CW9jEzFzK4sp1WmtZT+wWEyDb89/sNJBBO8RSvbm2U8u30iTCUQl0reD0X9FxGdN/Fo5tMxdmYtJkBoiLu4vtLt5hcOijbvskly0jWqYgeNFVXoZs9mPDmakouRGfVpRqzRmY3+Kz4NkZjrPQZz2MFeCh/AkHNiyyhCssmUlnQ5aFOqzV/LWqAmFsvialEBhN0ngQDW/vAR8EOw2/kTyAgd/W81J0ddZzWDrTOMsCsmEZfkuSedxnshbsrAtiTIEXoIRWkEk0/z8nWDD7Vdff0pLEtLfj+a10fHuEAAAD7QZ6FRREsK/8AAAMAAeavbpQe16JjGTCwtYPzJU37ivBjlSADtDuSs6P+LV2kGtsQwdUbfVkhO5WLwuA/ofJ2YkFezSYKacU2Zo5YUTIrlpfayKl2CEOBhI467ROY5PEV17vvtvhJwU28F8IzNFmOGdQbC0WWI28O/it1gv+X8UMl2lc7IG32AOlUl5sHb1uwTzsUsQJzY8PPALubRw2yRHeGnrKSfH2MlGYNB1j5X4VrIceYrk4/dwgwDo1coESmI/janwtN9aW8E1SnyGSy2TXhQqSmsnRmFGOb9UwncpzGjR5NG2uf2V6ILj1EZOODiR5nQCspe/obvSEAAADOAZ6makJ/AAADAADtvLZSYUiggfxE6sShigAX1k1LFFws849RyLEqbR0TzUwrobNp0Em5oGC82pnjwVjKUGXqMVsmSvh/uPYzshGozoe6jJT3l/7AkJ4t+HkfC1+LNZLoNt0KvtAgaWpvSl69SyKB7BcYM27J99U2lHNMeTAW4WYCx7TJMq9cfwV1sHDv5aDAeE9DeZXo1bCBRtYFGWTHmyBN77lIl1veIvVDvkgndbY8VQf5R5TxEBJB2L/tYRXfdnkkRYAWh60scFfxCZEAAAFoQZqpSahBbJlMFEwz//6eEAAAAwAHQ7T+XSFDoAB2Ru98TWruY07Zn95+HmuwkIM85yB8tCyAiAvlXokzH9+6daAZV4qnd7cLWFXtsUfIp3T3UYSkCR1/ZayBE2Wmvvt9axbL5LaeUUXY1eRvJRpKFC2eZXz2M5Sa35g2zQtstzWgeMyGVgegsUtocy9kZpfnTfUwKm4JLq0BQWY8qZ01PmDfMDcvxHpj/pZ/hP3v37YuiRbvZZVIxYJGeSvz7D3qH/2EyMQ4+rt2ite88KWu9KOzk4ZbQRGfSEBeHOW7G0h7rd+ux3qN9avvDf1akjWRE1fZ6C6GW5BP4oHNtpDHHtn+hL4KFGrx+bfhVZQvEWdcf+n0EYHj/3A6nQBG1sKjQ0xmhWRZNWyoEq4m1dHX7V4JDGYEaot/c3zJfY5+xTQgQAlVBZ5ud5BF3oOYwpUQM5ddq0zZwzmhvrQm7i3EtUJydM4FYE5gAAAAswGeyGpCfwAAAwACfedao2kABl1LQZ/TmWw+uW3o89KWOzH9dgA5T48JWIQpVBcMWWU7PGOaJiYmMSd8MOAv9yZ5ZXjSCX+ivCpsseU0AO6icUmKgQo12BCHbvCjUQXsBN802TiksjdVu9qWLD8ayEe06aKh/cvGZM22be4+4xb8iiEnoOL5WKHPO2yP79C1GlMxBwKgsyDNTbpKrDUixG+H9AG9Z6qR19kOh3TBqoF9+MMUAAABPUGayknhClJlMCGf/p4QAAADABLuPPgbWmANv14LSRCbo6HrL/1Jf/lqhSXAkJlts5R6LBRY2kKEx0qw+myD6DWo0I1iX07YGJluX/OF52eiaRbxj3TF4ft4cs0qNguDhrXy7+lzGmOLdi+x3+WYrYzX1fepNJ3KqhaJgC/hGSf/GV2ihoe5O405oq4wbKBvQkYxNLGqleKXsOEojS3wDDb7LOjBK9Y+vxHVCHA7Usg6r+C67heOkfCToRlXnz8CVInI7ux77yVmwVovsGj5RsbBsW7j+f9K52ILbxZeRPr9M+0/MC011t8ZvLJul9r0hcM8hq258arF5cW94b75CeAIU1ChNNP5pP2YOSac2y78+i4hBMcFGvpASFOlN51O7PsEm9qyuofy34kuk5GvCLy1EjoJjSIZFV/whZbXAAABQEGa7EnhDomUwU0TDP/+nhAAAAMAMP/86bmBSEAA7H6wTn2npzU+je+fT0zOu7bNzlBoUz+d8GRSdUrNUfAIM+j5EO2vBwGJv0sQHarG5+kD4qDMG4ci++/nvNlqFyr7/2GtDpCg9mvgvjlQX10M5sjYe3Rv+B8VT9gVkC7+bbl2YNa4/QHaIsRH3IgrCyqrt951AWQDFsCJI/wjgXG8Yk0S6kV9MPfqG3Nl13fUrpc1LMpd6XNMqknnxorXikRn3TJwVJEtg3YlK5B7DLmbpsRN8YO6ZFw1oI9bRLAFLWOieKb4TPwkgkX3EgEokZBG9KsaU4mflRFJ1NcDNd8/xWqh98CnHycNgdfzdtON2iQrPYIA4EDg3jC/aSUOJBQWJZ+i03PrDMHQUM5BO2A+MLwlXH77PDEq/WdHxNgrWmaAAAAAjQGfC2pCfwAAAwANM8aH9hw9WuDAqG9TEFYLo0/FqjW5jLWKn8Uf0AC98qhqhsov6l6Oxycc9X/PMSb4af/txa0tw5B0kcG3xfU8SVh0QTVse3jy5NofaRHDlwgsSCZkX4M5e0IbGTp/ERZBdTKeKTsPij/2p70zQ/BjDWXdC4S+CM8S4VJr/Y0+K5c3YAAAAP9Bmw1J4Q8mUwIb//6nhAAAAwAMksaY8sM+wiuSQAXZQ+WbozgghJzQKiHQ6Jxk6yfsHHY4JaJMLuGr4frGV1+6zIkQNEzfKE+qkLF+0yKjt/8cDPNO5e1uCWDBPf/V47P4Ux1uOUPd0PJcpBVXh1cqbnaWoW4Fg4FNB6oXXEGZWealMVz/nRI9o7GOWsb+Ew+bqpsvecwaGFtTZwk3+OA9dPSA5hK6uTMKjKqVYAobPltl+cLxo9c1PLVvz2vngTSp+oIezx5+2DkLw0JfE9YhyGtnJkugTufKKIMzGGlA6+FSH/fXWL8u1AolWEfFFoLxQjjQdxI/PItFzSdeOucAAAEiQZsvSeEPJlMFETw3//6nhAAAAwBWWam2VaDZAC3UBnLXwUEgEANJTOBEdz4i8mig3iqligxF1lnNVKjEDwkiAIyqWbx03g9U1lQT/y4mOQiiSnV+x1O8XaNTVkD64M7CqI65U5ilo78LEFvC+fzO3pD2J2xg5x3wft6jUEhN8OE1ym8LQtzFgVpSi1NcaHdHltSiYB4tUUthzSJKXsp9wMLmu8zh48jIIoFas+B3PhYz8GftXi/pfCgjqO3bjbbrEVnrSbRpF9FoCj3v+1CHXADmQnK6ALWr/vaPHFhDJ0GlKAACycfMmKwX1jz4uJnfEjiaZ/IFNMA/xifbchn4Fzs3oAOkVLalPB/+jOVivVPfZzn33Xjw+mWQMdA7kxAn2UEAAACfAZ9OakJ/AAADAFrt1pg+Mro2iAgVRp77igAFzAJam1yMUBLTPlfDBU5cFyJ99aLVorEjhbJSe0LvLaF23Y8Z0XxEzPSevmqira/46CdG5iVBU7w0prGfWkD/xtdZIx6u8HgkZGFPzDGoDGTBKrP5ljHXGf9ILURP+nEqMKuHenX/WBl25s6mRfvm+Tc87R6XKwrPMLqZEYw7/XLD41qRAAABN0GbU0nhDyZTAhv//qeEAAADANya0MtZjC2q5Tx4nnlIAQf1Y/3evkvi/SU8H5UA4WWTu/yediRA6+s5zF77Z0qT6JKGZsi94U4I8hVoswmVZGPXSovAl8qoLCGPfd5z8TuYDcNLfuHuBJCqjHeqCz1ILv7vkjjF+5H5D+09loMyWKjEWmfa+g01mWPxnHCcKi94zbQh787wvOTF3/C3v/fR5blWgEt6I2dXIvXhfQAa6F8c7XHbjQIXqBWe91+43Fd/AbL9gCdpld3uJ7j6AW+vFTkurhSQGUPRt/g4Zwo6MDWmsbk4XLga+bFbLVsd1Q35AQCvNlm5s2h6n6oCs7KskpWys2kKL1BEH1sM4IEUARhuk4egkX4UFsHQXR45v4E7e76dosNGOd1PKUDMcrwSS0e1NMxYAAAAuEGfcUURPCv/AAADAdBlNNI/8qXGgATtZi937fWyJSVm2nehhzxrvByY7OdRCyOXhbg+gEnvyGsV1xsascmL/oIR0u40my7Xfn+ocJ9BZJtwQmABpXqVJHR6XsAjJmj2y0HClG5OYEySBOD1RCKWLHR/xI5PmiP8zpNngtoEQyMc8JneQCf/ZJV2nwLtsYCZRF7lJHZMVWKnCDG3x/vw2NK2AX4gaa4gnmN0/l6jmXH8knubs2UWoTgAAACEAZ+QdEJ/AAADAOhMhMxUlSH0nCf8mAA7PtgV5H3qIXBQmxgZySJHKhHhf0zYbkycf2TBKt+zg7VGd4qhOqtnum8F8bb6Qh0h9NxYdRiH78Vm5atJIfFluNkD3XuVsQWlGCaqZtarjN2qNplRptdkB7r9AAf+RHUl7SwJUERHV9gPiumBAAAAhwGfkmpCfwAAAwDoM+X5lbcAHN5lr01ktU1YxURYe16IxD/SEbrnEHSay3L6q2Jg0tQ5h1j6yZm1TKIcFVWSkA2vzxqIBfaKUmQgX557a1tN5gRpXNo4q+rsrydhg0U210rTqwBblqqmZvtjRqgRl1spdJXqS8Gt1KPrjLDQHsNyPCrllifbaAAAAL1Bm5dJqEFomUwIb//+p4QAAAMCOcnqEN7r8pYsu/56JABy4LSd9baNZtX8j+f1iWG3xCa4Cd9JU4h/hTO32634XqGbVmuJw5cVSk8sbTlQju5X71iqbmPhCnLYq2jZdQ6no9yALU9nrgw1KT57BZZJmQwXtz0LBmMWCiK5D1yGV/PFSa2KVcE9lHTmTD0ZjI87Anm/QhJ6SC8i7xXiEd9MK9sDDBx/wxUh/sKP52EIlel//enpMlh5rbxoPGAAAACsQZ+1RREsK/8AAAMBydyr6uAKLIeIKwAcp9FmA4a0Bf9V8WVItVSRFfdSlZ4uMTel9aa2UH+I8Ea+sEMfSMvGKObxymcOA8Ef9N6i2+ihNWNj0vTbPkg4AKPrxDLvCbnzuvg01aOEXseWMrKyGHHvZkHR4eX7eW2sztxuGgYOmAeFxNYVDjlSk+IYo9anO11ucT7XjbI4eWPPTZTSM7qnR7O7xFANNSQgEVhLeQAAAGkBn9R0Qn8AAAMCWidJd00YAD91CEInG3RPBsw4fzYUuNkLIvxy2XRzBqPpfrw+UwKfKnuWUUDzENf1QPD9TomflKxEIIO9jNWa48Q0ODjWy3CxgGO+sJVrhn60F26IoS09A7aETGF2QMAAAACFAZ/WakJ/AAADAlMRbToG6xYKkHvMgJNa1N+W5X7H2N/MnZQANMlYRPHKcYP1om9CfoqVQMBZ62s/ECdF70/P7sIOh5J0M/bRUDFD4sgjAMiLNr5RvfuBk99Eh4KtoOavchv7bjSTO3sleQz/AZdOzGfi7WrQr0FOYLSF4RaFQvuHi2pwIQAAAOhBm9tJqEFsmUwIb//+p4QAAAMCO/ssm9GuNXABzaAzld6UL4hu4avhjBj3es4rrBhb+f4E130tlu9DKKmUJo33z0OHePCdC25RnI7fktV3EUZHDT/ajos22zh/pMaygRvlGZIKq7fypTxQ54Kz9xDCzcgstqN9KrBp9d4kBEy9Twy7PlDwPsCTHJX4CFx8K0UciBCL85m5XBDcv4gJUwZ1RMMC3wqGH5RLEwB/ibU2zTQapzKr+ol362/pQV8i+9ICcrU2YRPZ0UjZ13CD6PQ59BVl6RRe4BZFYPpACAX52mXlC3URrGfBAAAAYkGf+UUVLCv/AAADAduNm3QC/d5eLMGueJpMgcYxqD0i/8e45IBfBNLMI9J4yAEXMfjXjpfLq8f7RQ1Z3GnRLbJsnOEeCi0MPUWdcIwokPOfyIKRQ0jZpQS5GFnQ+9j4wtFJAAAASgGeGHRCfwAAAwJUVJEhrDzlIckB2QAJrkwGHXoxpX+YRWEfL8BUD731YoTJ7bULX26p0sobbxGugjaWMOX+oSjaN8o/opFlwMu9AAAAhwGeGmpCfwAAAwJUPa8Ajfd7gA5T3Z4idcjqYw/8o71NfD5x+NDNq4Wkb9wwFw/WurAMP+tZfyDWwC+CvEfThf8iKGYQxf0fhwIaC2fLx3gmOWJZxl+p6mTHNWdEcNzWYHdwmwyKuuTjNz9AjFx9eKzn3fjwpxWoh2TAQgOQkPFI3iIsP3DQwAAAAPdBmh5JqEFsmUwIZ//+nhAAAAi3xYveOqcH0sminZBg2HPFsRmMCelErRACaZf1ZbUxQn9KKun76UyMUra9vmb8w/q9o9yRUcSylFYIvINcNixYzTdUivxDaGEY9cyjiFM0YVPqROvBzh7YRO7TG48Rvhl6NBEzg3LXar6+5yCCR8pctd6+EnMkNMaPlid2ugMvj/md28jKceuWqX0lB7czbj1yFWhbPUWAnAqaMzYc/uFTyUShsroTN7HckFEB3gZeBoB79HgFWyjg+kVsbY0WKK8usA99PL6VD6qxmchWIhCaJNi4N/LpjWjTZl1U7wQN+Hswo4HLAAAAkEGePEUVLCv/AAADAduvHFv2fGgAXP98S+j5WxlikCnkjixMxZuPV2/o+iGCD/dnhrmlQQNmnOiYd9+NHBXwzSRThPMZoCpiOpNkMJxx0nyo7s2AjX1dwkkKqakGBxmu8HcqIn2I/5mW3EHPhoOrH9Br71t1BE8uS4NBbkDNi2m1SrfQ4u8QzOHb4EGMM0CEQQAAAKsBnl1qQn8AAAMCWxUS9awRfpYHNgA5orfpIUoNt8knnF0hGI0N/pjVeAtdMiXP+BUYdkELJi1dqr87llNVbXqmbhooCase5s+ZE3ewxJE5xgDK87Z1i8oqO8R0b0uKl2PO7feOcmaalX+Jat6xGL3xu61IN7T9M4MnZnw7oXvOsJFR0alId6k07sUPuJsK8Tc0gLHEVdlKorI8tDPYkBUMO4fhpmbM7ZBeq6YAAAEeQZpASahBbJlMFEwz//6eEAAAAwNjwnSTn468G+j5lO/0JcJwBEhmOyXPCGpGYJdUHhMo60mM6fnI22Uizos7rVL40XxL3ehxdKEwRcl6X62f7bV9wMxK14W8Srm1FyYSOPOL02fA0v5OoChD+1t16KIKkrjOsdRsM4/3cItVZhLQOpKe45FPGwBM1tGB/Rke2B53H4gtHil7zseDIqJvac4IwEJIPjD1t7U5crLqc/1/yaAyy+yZhtZqt8tAeTpKOWFzRRxDR5aCapZeoEkwfR2if3gNsUbVnD4ngzF9h/OcJ2GB5u6NAziM9pxlXdz8Ca0rrIrJAxalXDnywCM1RnOjUMZFqzWeRRIs4vnIbKtU3mAs3/eOhqwAcDmsLAAAALEBnn9qQn8AAAMCZJvhQNwgjiFgk+MWjlsO+4QAOe/WRprwoAoWhGBtHaEkUf2JqjG4nNJAVjpVF/z/w/XAQIOg8RBo5c62kfMOLFj8SrB+S2gICSjQF+PhFWRQGrJJNpvmSZlUX9hJkjtZMRs0f/F1Pt+KYnHuPYaIdO0ypBtKzXpZhd7DtIXLB+17xKZooKOPC2meJ2X7lI4TYx8zD6l3m58lqupO3eBlBIWiAyjg5oEAAADnQZpiSeEKUmUwUsM//p4QAAADAVH3frBsgb9M3LqCQZPANiyCeKpuDsSD9oMCNrq9zT055XA02detxLEZLPnx5B7rn5xUhTXX/lNodk9d3Usdk9BjkWQ8ekBc6TYJQ8C/Zb97hItAZIMTaFohNUbtA8PfNFq1JKG+kro1EAcvfmYmKWnH7ZV8DcSjZ26ok+Jx7iv0TC3fs/nYs+eAYuDF7JzVIzUPqa7t24JU+pO4Z5SDxcP5NtgGCWEdK6Q07BRxuO8wkauB71nakgZEHltfFLn/ZNm1ewqD0zRsYNlRiHKwVse+eKs+AAAAoQGegWpCfwAAAwJkm+LPHglKVQas1MmfPN15KmOLmYAHY76SRzdC+YMLb/Qp459ElFjXxVhc5Bci0iD91mEIIH+67U0+i/xutWNFAMFFhyi00yDR/PJ7kcevlhNGMKsIhen4unliYHAOPtcPHLX/NqaQ1Yls7x9DrUELNVF1udRibtE/StdGla8wly7+H0223+NjkB9bl+JH1VjE1Cto1hDxAAAA8EGag0nhDomUwIZ//p4QAAADAH94TpDGXkC8gvXhnIdhgAVJdlrJ0WFvtiOBVlRjNbJCpF4oNoR+f6DqmWgpMUxa6kNAa0LtpsmNSo9O5M3j0/wR59nA9s5tPFgpeGP8GdQ8sqKX1hhD8X/k/CglkHNYAVhBEDsmhzxE2LxU0CF2A0gPLcsKC15hmgpFMv7kTmhK8/c/3qgR7dd2ju/vNkSlboR3CejMo/zOxPKpTMN2Ffom5NNJ4zf0Hc1K+iJDXmlOMWwtS4LGy0J39GCofOWv8u/Pl//v9P4tiOm9grqO3Xd2ASk382AD0w8wVr2RvQAAATlBmqVJ4Q8mUwUVPDf//qeEAAADAAzvsp+C5Cawlf1xeXAsgA7Hd7J3sVW4NJtrU0AZgQUMTLuuXY5/Qupa1GkOVtQZMG7vUD1J0dujdg/lIMN/BYD6uoAvgIGG4jfg17VLDtTWk9Ayust/q0Ulbovb6+KcxxCNh2Ps35Wu50Q66aY26FZ9uKh75CBLRw8N3DIMLsrHoqVJL5K3+TUSMX3sCEPJ3eb0do+wOlm0VqtEm9pEk0+vL/7AjRhIxWldOSz/tmiNyGhBiAkXyk4GOJUnQ1UECXOr/pDuBXTLcZTVSEhaAA0z6Qb48KL2lErgneGlc0KaM00k6Ihj2KHF+vQ+Xr0YBAz8qTiLUE1P3SD97aQrY4gVahqqL5FLrpF6bdyPlV2rQW1bqNE8Bmmh5YtFVaS5vMdIfgBBAAAAqgGexGpCfwAAAwJkm+IXwc62mmKBAUgAOsP3ijBarAsRhH0Y94fZnHVqd/lRtPWleMvvIsLprhJgl+UjyZIqJ/RU8Be8024HM5ZdWdYEKKfVeWqIFsUOkMyJADvJmIUizO0E36rgTyb1L/Z1uoVC8TlOHUP913PCqQ7Kc4U/tk3xYP04xRJtaQKCojl0kjFkqmWgjrh/5OvI1y17KDpEWWjrS7fATuse1bCBAAABMUGax0nhDyZTBTw3//6nhAAAAwAE2+RsCHfJO06RjKAU+Mxxw9yQMAMI3cPe7A98NFFNVEg28Km+58oe2JChRRGo2h8QwokV2d73wg+XWc/ycIq/w2gvAF+fk+ZRDjK9TyaS1fKFe1aOK4hZAgtd68qiNTjSRu92MSNFuF8LM164UnJqMcCBubdr+XP3i5rREAPlWZCms2IlVuXTqU/aoU3m7gQKO+c1wca+eJKOdgotR9it6cWfFBRLWaibrIksBdJKvmHnHJsDx/wKBUPzjwzRMvV04EdIUHUfM8fZ5D1PUA/NWSjIGLLVsxMG6SLuXcAsf/B/GH/YqwCwk0zPWXE9vkr2cxHFLgCKeNrGQpB2kw/Lajob48DZCnnZyE/8zDpXH4Cv8mc9odZs6DYUxAzBAAAAsQGe5mpCfwAAAwJkm+IEQfKE3xTnbRKUg/xHvEAG9YJ0lZKb5f5ITRuIDk6/0vFmPsPzy4nyAEOcHuMnitrz4PRXF37jenTyMx8vrF9RZuO+9wsZbaMiNpqP0P1vktMPRWNGcNjOm6n0KGbv3Dh+8SVCAGG/nj21nMYN9Wjw5c5lQo7E+hFoE8kqXq4FtI3Z0m2ar4cF7fPAItFUbvJmU9GORKCztHJFD/jhNj8wcZsi4QAAATlBmutJ4Q8mUwIZ//6eEAAAAwAC6+79b6YTWh+OwCgBRV4Z8MbFLZxfLHRZGnNE8m+aoWGLz/gxTfaSh37Qve+we7Q3MGb0JhRMn3UNkhjwM/7ez6LKZjUkSYQIpRXJ6QOMj1Q4YMrT07BD9raqAjS+DSGCsCzUxOZngEYXjz+H6OB2CwtSY9DJe4LaUawhKoKfESaTPgpA0gi9GGGZJ0o5Ox473pdgI6LYw0wvOIm2pXJNk7MQIm23+AmFU8aCvx9ZP8vVFEJBadiSJ1/6Sax1QQbJ//+Ej1fgwSGf4q1vBnm9OZ3oYL4QLL5xZDbuZ9bWFThGJ4yh5gMfeypk3B/IchWazg2pQLCpbH/d63ObUFkX7/9vbxjx3WXMx5CZRpaxz68Tg5lMh8Hi0BZLYSDKr2Dhl3sc4DP8AAABBkGfCUURPCv/AAADAdZRzQQqeEAl5nBh/A8LNhOfwaRwac2e2Hw4AB2MuZiLNj3zhWpUOE/WmPqYeohbb5ikQC3wJ2oRyvZYWS3NusnZBGvNK/ETDLvQzpgwdIEbLKvFvNbB/FcREK7FhWlSw+R4ohlC5C+ilFVwO99wf+zBfOH4QEyFhs/zhwE5Rg8Ibj153GnpBBTScWFIj/6jXxAAOHEov8xf4ubqGWuuPkownmZ516nWz0PZ2vhHy1VrfiSkFOdMJNLQOp0PY+qzHpO92dKTNQVl90hYtNKnDnr7LxqBhlc5UFSd+nz7GY9xLdKhtveEREKRegZVRq6SzWyKCzylfWIj144AAADkAZ8odEJ/AAADAADI+IN9WsIhZ+TF8Y02sAIRmStFUBBYzrR6rBuMeQzOHPslDej/MWcbRplu0W4OiebW/8nm9nU5S5aIaJt+cLS4QBpMWWqd9cTXUc2D7bkhbUHNvGTjX9eInmMRzD9YVhy/obtUS1Mq23pE3PT6Qm4UuD9OoIsOyKLIKZPvCm9E8S1eepdyZ4xjZILKzxnmjm8zD6D92OyiY9YQIC8S05H4GeznQmCMyktj3YSRGFCcGzrVdErzigdHgnBWp8FhA4c8/qEOkSoedCJf//eKbNmF/VVoCiADHuLPAAAAvAGfKmpCfwAAAwAAxAtj7j224ejg6lvhjKfUADohn5pZ+o3BEQ4IKFyQ2ijFSFCvr3zbX3VEFNxDf+4YO0CvK0e/R2cSL1409I5X6S0WGgp/hBUPqqvFbCKZzg2gmMpjmvEn/gujghvvKQaXvHpfQjvbcsFW9cWbM4ChLKJRsfNo3XPXuMxyFhQfYSC2ictWldOBNCcC2I6dK6bou+6xbcyJpgTT4QeGND1CGVxnnxk4Uufx8JCDd401+WPEAAAA8kGbLEmoQWiZTAhv//6nhAAAAwAATbpvax2ycVIF2gfXe+GXwAEOvM/rxpYlT554vOcsqOIPOKjZbj7i5TMsnRRykXeLvcKTsfd+5MF995wn7/tZDEx8x7BvQENO3XVbXHazGkadrXRsadngCb336aAde0RTPD/M+eKOWsn34002C423m8quDiQik2mrdQJLioE2AQbcuGS8OeddAmY6bfGEnGjKD3H3jYqVqys+ggsfVD1lE3OwoH/A2nPu3sCmq0QxBwn0DE2LBTbq/oX8Il0IcVk8vIe7Xi5r+hAGrp8I2i28dj8/XWHZ2t8Z2FYzEfcwAAABnEGbUEnhClJlMCGf/p4QAAADAAk3Tekk66IWqb/uHgA5UZ3kuxkNB91wcV0pWaZN+16/YoVbmm8ZKUtLfHZSkS3388DVoOUh/3L9GYXu+ZTNUyllkxl947gLwNMgLlnntObi67Twa6Jt9bMyRg3y02kMEDHmhF7mDMi5lBMLNcmsFcsvG54EfkCPePtmebwMmgmTlN8irVnuaTO3U6Ex3MIH5zATsBZsEKLxYSTK+4L+P/L5r1hRTxF254l6ClMKx5Tnh28e/M6yeeJBEwY3fTHuyMgrB6AbbK1NQMgwMjbISrjS1ndEBrK3Ue3bkUXxTNjr5QBq+wEmm2YeF2bG3Tvej1XC3bHbJoFLQbr/gHYB1EdakhEfI+VVeRS+3/wEkx0w/y/feivMrgR3Ej5aB0dDk2Q6/zOl4aS+HK7jBZ7l/wVu0OCBIbi2QTV1JZ+S8NTe7/7V8whsDpexQdLY3ak4PIiEjTlePDQnLjrwZ1HeacYv+mhgMGX0GnoUW9eWcsmom/hRmN7q9Rn3sGY5U7OYdH+iyhHKooMvlPUAAAEcQZ9uRTRMK/8AAAMB243Xzc/21HV5W0MVx/XYfFnRnfIqbVMU05I7MeTwAaHAQOBNDlq4uMZRHmu7ECVrU3iK/Za2dWHagAnfebIIVBQLC7ZR9F2B8oyGNzpz4PHOgsiFF9kN6DyhUi+7q5816QI0/tqBopNhfHbuajbVbONVgXFR9SBMrR4lMjGnv/y02qb1T+xbpFidXFPK2nhOG/vZXvcEJHEUU1Qr5KLCw56P2iHOKQfznXab8RmeVfvfz1zfQAnnQG6yGVy4fky1v3fUraLGikNWAHv6/wdrDcknGb6ZqyBM6yGuChGADX9t+9vBtGdW4XftORiuqVcCAU8SaYQbBY4CuftcoQqMpoZhAmtI0S1nb+MCMk7BWkEAAADHAZ+NdEJ/AAADAADtbaKLpqnO14oaux7LjkJwAt31Kcn7lUkr8VkSRZU9etMuCEZ++Xf5r6xV6ZTT8B6VvAArNlLmizYvy/c48oeCZd/flCTcV0qMClDnugbO7mP+F9zF1u6HV6IzkggH+svdfzanSYOlsNw6zGS1B8r4lIRQ6JO8VAEoz9C5zZjlf5efeL2W2m8v2rwGUKgdu5fMiAS7tP+K6kzpsLNaQiguPAvfhqPnR6l+XohVv/w5nWxhmmyZyLcLn6pROQAAAOUBn49qQn8AAAMAAO26p6ZAZCoentx4AQkQOxAtrAbb/BjgcujBh5pRPZsmX9U3gd9Jc+RFttjjbqXinZZTmg/a6jKziZAWM941f4S36NWADLQsPQMBmVNfUDPsk1G7vPoEE5h5bbmfx7s6BqEh9K3udZOX49ecVZuP5sPvwvaTgYzoOYcvS/ttX3k4kn7nfKW0diAn+2XJgrigKfFIBOjVK+UZ0LNJA1V3HNumdFdeKvoaKtYwVOR+TAxZzikVy91ZRh2IlDB/7+jkikqHhz2TJ9exlZyD/TQWdvuj2ZqXzW994qCAAAABM0GbkUmoQWiZTAhn//6eEAAAAwAJbRerk6KyABNIycr96G9nA1o6gNJya2Z535NQGWAuWYNnmjUGzS8JyBmpOKuucMicNEH6LlA5qYp6fDDVMswHDDKQaKsAND+8B23HKJd132jM08A8nwJ008UD0OUBsS9raj1u9RP0WxNyqwG40PoevWB+gQY9OXt0a9amBNsyGN5u/UpJU7Av+8wPIi/i6rutBfccU4ECnsr1K7HG/Zz6IKNkherwfBR/OFNeJri1OR4OO4qsyOb+dIFAFxdEIUFEmt/DQ1fsgXz7x/dKZko5o0E6Frjl+CQFuEzzKnINJLv0RSABYpd70rf23zx+1UMxdD/am1VUOc8tB9J3mSeRnTLViKIwNoDWACpAhZgyXYp7Cn728AbFMtiiUPcGTkEAAAFjQZuzSeEKUmUwURLC//6MsAAAAwBEAdMS+8omQAG0GkoRe/qAHRofdHgi/mtV0/M/scWevZhstnOpYfOGtt1nQoe4lJg69d6KFd6Xdij5hsp5mS1Yu3cdVgwprg+ygnBBLcUmdLvmX0muTB3Y5PCIjIs472DH5jtJPdms+TLfpT7yFFEShgxgEx8MSiCI4KcQb9lD4DjVgoxuH2hGddLIdI73TJwq3wG6uUHjfWQyq414Y85BhP2/D9Hy19jjs2z3JbQbo7ldI3D82J4vjuHMvQB0SUYM9RSxv5cQfm4q4cwSkFd1buz77JuzBtwD5yldQefRPG6wDt30p+Cxe/DY+aav6g1P18J1uzunReAfmlw1i41bPZ5I9sKxyjmc2WpZHbQfDOXt0mPNSVSEwPvazg8Q6NBUJl7uub76tAbUqH4snQJbvp0i6g6XxxIAbWw9aftquEw1SeQTGMiqyYBPh06UuQAAAKgBn9JqQn8AAAMCZJviJFjOMa2TmOUBm3yG1uuov3MAB2hOsnyKoHifl0fNBqWpv83Ir9QTpSMR0uUJ6aOMsqwHEGxHq+abuWwefSUS4Yq0xlw3+KyEB8O2IFbULXh/MLJtEi5Bj1NnWMAz4oRnzZEycVzT9sfFGzw5oyKl2gQ9UqEVrAV0RSRnnT6tivE4xWATDMhtWM2LRcf9YZVazd9vc+hadNHkPaAAAAExQZvUSeEOiZTAhf/+jLAAAAMAuzneHGdzpgBPfQATtjBqUfg7YuXs0mLGD/ocYClzrPV/gjPjIbDzixve3VXMMrzZOZn54WK3aFv7Zb6HLbcyJyJXBjJS3zz+RUx0wKc1TK6Mvc56TpK7IW4mHVDhjteoiBPsg/a/O/q8k1RgP849YAeHKp/e2fEMWJ9zTuIBA9T0hnzd0NJ+ZRgMlnqHMzB9ramOwCI318e1G6Zi4Mtz/ctv2p1+Txlgm8enVMWwGfu3HF0WhvUtST7y5lC7hl3UPbZCdJR0o1I4JiQrUIeOngqBAULeQukzsewJwFAveQ81m+qthjy/R5YgVbLVe9N707h8zLcl3PsaiUqLaxTBwC70A0bWF4qn8Q3mhCpy5/SBSxu49PiQnl1l/DpT7oAAAAD3QZv1SeEPJlMCF//+jLAAAAMB8op3bLw5Q3DryKAD+eoP57cW1vBBzlI3ADp9BeRum7esaUjGhVdZzrAiMohOm+DCViOxfpWlYIm0yq/4nieCNcd/7Jrd03xlSEYNr3iEP09u52WUpTn+MqpI6fZocEwBOPsG/YAgG7L/f3FzukE1f0kY1MaeA8SOcUeL7TywcmGEd/fk2iRJP+jKGSK7cpKKPICgZgBzO35hqD+Ln+bsuaWwIuIlSUBaZu/8mDgjxD5YqPkmoPz77a78gXNa5+EUdf4yEf+WfHVRRysfw4T6nAGIEBG6PSLD3ZOYzu7RN64Shbq9gQAAAQtBmhdJ4Q8mUwURPCv//jhAAAA4bWLewY3nhEQA9gb+zv0t6dxNq/XdcGIFaeBJsRkaXsQfCa/czwhQnegmwwO/kYvyuXxSeyo/7uzQSIvjWFuFK4yYvlueYgaYHoQGAEHJzr7ETDHWoJzZBWkhiLabuu6c+oQi+EcUxcQJmBcZAr/LAKMNOzBtdrQj993p61ReBufvzhh7W78dv2CDwbljANzyNd3rhFM5QYy6F/B3BezEZ5MfxAPX5lJNcsMnd0xQ5NPfQ2Y4t1nq4CipVRYyMhU/L5+SsdJse6gcdLOlHqN2zBBg09VMKJCVAtQMzh72ZWzGL3HcWIQ4G3ST/XHJ23d43rYheCkyl5AAAAC2AZ42akJ/AAADA9hO43r7IRlrKRGFr+Lx09+chT2Cg0mAB2RU2CuBjF7+F803WqhouBfPkU/zT6cRRotqMGnGoK2QXP02RicQSsSw39beLKmqQxv/9RcAOU6S+uEYAyQx8CTCmi76bgDnReTi8FpavacfXYrjfxG7/T5vn9kzmM+sA/B+OO0b22ol614PgmMVmqk1oKQ4QjS85aTKQrjisizd6p7qck7U6bG2lH5OjKuRyFXflBcAAADsQZo5SeEPJlMFPCf//fEAAAMD+dNToV05XQMXmykg4ALqOma0+3EEv8uoF99XwgsMYOvITvZVMQnJeRRz/tYs990TY9k22WGLlrjGcMp71aIQW05FfggRAMPwSHBboI6yCFiHtu9md/9l05uOQpvTGAYLniuJmpCZcIGAHBSZn76skUS6qmdATPYqIhTHf/yMzjnbPEAuA6ypzagbubSOazFnabxbjbqqcSUygvkvXFBkXyFugy7RUJH1VuPoifKIq0h9GqnipzQYGv+4j8x8tL7rB64+9Em/t/K+IGoHAzjaUUzjhv1CDAAAekEAAACuAZ5YakJ/AAAdB4CZ3kzIPsogAnGJnaNi8wS3FphPMGipu0W1Rf62QTHZtpB/nXigdkQdHDYlsce73Q/4LD037zeahG6/calYc8bbEF5I6kvBAt8NNSke51A07/YRV2nM15TCOJ74hOIMyCWKO/hyAo5jCccarkv29XOCswioW560nLPoxPwokOyAVq8GGHeVkYRqN22HwtGqhRjT+pctYfLUHIDlXYmEeTyDwn4qAAAAukGaWknhDyZTAhP//fEAAArRK37BVWaSWD4AWpow0mh9Gq0MiELivvXAzbdvQGH5y9uX0PN+xP9sdM95sgHukP7HzFN9YdbYK/eKrROyyABGZgZwp/U9ETBDo63Y4W4gufYrKQkXU6HckpylJ7kEyIBi97a/gZwPkzGfTRyL7LdR5Du36UlBwLvDjlqJbqSzDc0mhJDJbzbpE3e+8Y1tDZbwyj0+j/9bkSr389MTKSO+zRiEgVZ0aFCygQAAAPdBmn5J4Q8mUwIX//6MsAAH/oDtIi+MyhMCjUBtlwAhIdG9qQj67vy1DIHpvtLt7ekNlczfjJo2MjqoYlZEh5E66I3s7ttzhRgq+73JojedrCIwEG5kJ3RUtNCOoYaRgsUCbxAbq7Nltq88Cg0Rd/SD2UbBQw0OAH5OLzTh7ZLFHfS4z5QY1W1q1V60SHkyXMyzQ3Bijw7b1zmI83sGhcnqHKzWJcmxg0PF9DoGSn8fHua/2O1l9P6iy5iLkZwJtv5xKr4YnbXYDSVxvb2y3y+UNkq5597l61v8/8VK+t/opAIYDeV1GQN+sEZnyiWiHcwYvDNfUpOAAAAAQEGenEURPCv/AAGwOpg/uK/d9AC3f2TT1Qr+i63urqgBEZduR4/mdWLjRmqc0YZ7owT9KLnukyxAhzlAHg08D8EAAADCAZ67dEJ/AAIsGaxoGE78KidcQAQh5q+v8tN5+OqhMiuvOiJo9f2UnRcbtug2+iiteMeeLKnB8pFrjLMmOscVFDs62KC9vdX7Om/dxThpyIBgFZKg+gDJmCKSXoGcxiCEyYJiZxLbAp5rlN/l8xYpo8zroG4pwvTL1/duzVR1pzCv4CTtzJhsV2iY+s1ArePkTgWZ2hvP03sJjiUwX8KuFQ1KC6icb3vlbGLQc/9puSx/679mpr6oULDK3phFijI5MP8AAACAAZ69akJ/AAIp6J9+dwAc0Vv0nPaFXrKtYa8lJYeZ+5dZm5NNVGQfaYJh1ExWQJ9SlNlkfwefBekv36KNAwzlofB/2Ay4Oq52lkcEdB9OQWlIWaP2ucmb3lP5FbMrD/z7lpVVLT5gR0vFytbTzOl2j1/1bvG0pyx+rj2AgX2AAb0AAADsQZqiSahBaJlMCFf//jhAAB8Wsvp1b1DBMmgAjAoYXtNq6GjE7N6AfRp8K08Gv7ECN3JimuTWfyNi0e10yK/TWmx6RwLVewBPfLEvcuknMGOxaHe+H5hT9+M5DJB1zcOjp8iyZvE06NG2Aw5DJsLe36k6i5VzlEVLmR7dxX4DwcvWoJ+iOgfURIyOI4mU4tpqukmZrN6YDFimcMniRllO0bA+I1OqV+FIfDzfRAmFeEwdXPeT0aAbZasrzNkwM2x5edMq3ktQdbBbhYtB1EeY+pMQJibGJvmrd+J8wBDZmZKtmzkYKE6pE/MFEnAAAACTQZ7ARREsK/8AAbACQo6IMADs/yIywA8sb3kaY9BouRt3+KXIl2r1/09RktQ+cp5NwT+nJESQ/VpoXkpUxXkoWN1b3ZB2XXcAzWLezFAjLGAlUXEPPpLxtZnBziMIzhA2i6cnxX4gWcSSoDAUhzntrx+ybrtwyPYbYw4fjxTJM+ob+SnfkOvymDkmq6PvbtAU7ixxAAAAYQGe/3RCfwACI68Kb5ITYdDN6L6c3gOQRvHW+h3ABAqCb8zSB239BzWr3DfiSSIbqY4k+EFWQATflo9ug+sU3Rj5UnAjszIWRSCbXRDVDctRnfRiXWFoYSKP+l9W/G8ABSQAAABkAZ7hakJ/AAIp3XoNXnrenGrI6d8twijvoAAh+dPDynw7I01ru/HixuiKbLMLRjcuuMjCYfu9NgSJ5MpYEMVK49EA5wXjyqxq9CyTjL58R15QYuT2XhwwBm51XHx5hWuEhegEHQAAANxBmuRJqEFsmUwUTCf//fEAAE26J+QEgE3a4HvCqleAA4M8OJKxHY5aN7/hW8+M5SnuJcycy3wTAg8zD7ZFT0P53D/zLpCM1z5Tarpzjep4KT0o/uoA3B7P38GG2u/BBETSTgvmhKslGSeh/itFqqI9L6C3oXToPbpsI5wpNhbHyWp8ozSQp9K0lbAp4nJx3W6LCmXmxLZXorZuBCHGxTfhF8olJfrOtPusl8U4xeQcHPk6pqQkmmVIpZ3FpYt4iTNuOCluJftZp8C2bCgCo6YNGP5nmlERNWGosOmAAAAAlgGfA2pCfwACK0QnFIAm6JKK1AnO7D6iNc25QBCF83Q3Hv8QVgNcMgG5rLrZpNt1gW6RsT5qnEyYqL57b5hurHoXHNqhKSuPFrik3QfSjsLhsgnyfzqySOrhaQuitC4iYTyFZJrqeI6n0mj0f/M5ZTMnR29BjGUIy9GtlSS378ZLkB3ex6f1HDf2UpNvWS8/Bq0GwuDjgQAAAOtBmwVJ4QpSZTAhX/44QAAeff+ltHCehKPqiSX4KiAEkXJ67r+3kdnQlPyJPZq3eTITrGQSvuXsLW2CBmuN4LXwdV8VtJfPprvgddyFizazTPgwGkp/EafP2ISzHeaMLimr4KGGshhtkcWAnH8Md08goKBqTjkZukwpqxyp8rqnVLeqKGxUTJifrn7dRKtwQdTJYxM4c0yfymwinv90BqnWw4a2wOLGASLL/9ik9AoVdLbZh0qX2qBEil4XYnQaoYUoBVhwJ1HoGnIkPRTmZnPfh682046n2DccO3mRsRg4N+jsmjjPRH5kAMWBAAAA70GbKEnhDomUwIV//jhAAAuvtbLWwuKOTpgCzAUcaod+GCo/dpGpSXqE1olAPxLJvdeqyQPK2FCGN0s7Cn1OKSpdpDv2RofTNuvp6VNbJa6+SMokIYheEatV6FRMCNbZD5K57YrfM2cSHD1Th7/+aE6o6o0qo2wiRZstPXFDSQSl+BZ4iBKvO+s6rkAglQ1mr8e3rcnU3dfX5/gjTQ2r/inQqTVCUvNooskb9YNEO3wDe4KwmZYkjyhu0F85YD33dZPqgk9V37VAHa26e7VR+zm70BY1CNC9x/jKuMaBmUk8zpqGrPRGFQaH64rcAGjBAAAAfEGfRkURPCv/AACjxdiXet3VhTZWi12WTOIPod5O3nq5EVttdryapkDgdixbJddSADmWn5TL4YUE0jpVx5O/xozpZQsKdWIWr2OpdyufJbIWIEWuVa503Ui/y1zDpP/jEWKvqr6PvwLyuZbGmTv30f/L5/6D4T7GALpkOmEAAACnAZ9nakJ/AADOCZImvsyojUrfLQGgAL6R3TXhlcafbQDurGRMo3Asm45ldajHTDlFtmG2AmRXCJiDvh5nvlYzg/UPk6PoNWW2TE1OnBqUW0lZx0lV7/2ogZcYchEMpOjeSwCfsutfsrZi+kT78Mzt65no2JgjrcboSqxvJuDyFaT/lcU+9Vwl3bmVHyyHeKrK07caf1eJF3Uq4swtCvQzCaZJIZQAXkAAAADgQZtqSahBaJlMFPC//oywAAEZ+Jyc7JNhrV4UEU+eAmkox7bgQz43eV9GeSof3cKgUExZOKQrK74RPhe02Ah3Mn70ODZqVoZtFJKfKUQKv1gg8nuZzOnt9aLZ0VG8Gn7G8a3qyXrVqq4p8SnEY/sYX+IWg3UvIG4Z6dec9Raz/jOVmvNl9aYsGCKXfT9IG4SYBMIDa6dZsacnIIY/he4A/KkO0BAfwAFExNgcCAsI0W6xgDpZBZ+MzaeT9w8uz5xrITv+ypCoyrndyr56TUU6zHxnPIGw6a/JVUrt7wwAPCAAAACBAZ+JakJ/AABLYjESjAVIC7pX4GYvR4EkFdrMjOQAOyK36zs1CyLdrdlITQh9Ds3Ba+mdnOYkff9jY6WB7bdTbV9PxWU7oK8suCpHVQyTHVfwHAHV7q1P6dXpazOjzkv/OjNRcaFKR2QPadBNNjv+qsu08Ype7Fd1eLqSX4ANhBdNAAAA5kGbi0nhClJlMCF//oywAABquE6a76cEZPzsZjHQNrngCXAgDbyjHtGyFUJFA9gNLOQtvhqFySSwP7+voJS3wQa5McVA6UxE0iQ91YHCfzfq/6ozqpeYMMvEaIZzxtXoSIPuh9hvdF/uleC8afI5uB9iBD6KxV2XKoAAIKM6bKNhJpg8OstHEUSjR+Zf3abRX6sLv4gKV24+ZopJLzc1rwjtz2VSIrbsn2BhH3BkO4a92xywWTGkq5Rz86I8ofDN7NLexdSs6u/sIu3I7enQlKd9QmMrG7XgSdtp4wfZ+Al8yyKuGANqAAAA6kGbrEnhDomUwIZ//p4QAAAnverpWdx1keHdm9tQAPJncAPP/h/+YavfiSMKlvfUErksV707Vn4zSE/Z/TiROdKtHszhV0f8V/z6LY32Dx+ywPf3RPZHMlKgDOMJTCQahWWQJ3b6K5WWtyiIlEACpDD6yACyBAkwLkiq0ZZ2irWI/BMztveZfHF27YmdtZFare7nKGiCkN+WTzlh2GsJ81pKh04vif+V432YB0R3U0watb56n/4FQxVMAmFwgHr4FW3jRvhYurTPImqo6XNxhZV4jgvXcUfHxhJufbSJKO4DNIYgtOI71BHLeAAAAIhBm81J4Q8mUwIZ//6eEAAAJt03o9EzxYX21wvleebY1tFZmPY/4gAcjw4OR+v+nD6qrvE87dh+MbCrrq8bKa7WE563v8N2E0rONPsXkVQnZJTKKr947XGP7cBVnSNvL+sF5hJx+8yaF2fPRMNuzcDmLBR5kb+srfijOaiXbwS9F8vglcHWwgEjAAAAu0Gb70nhDyZTBRE8L//+jLAAAA6nrdue4iKymvmri44v8B+RgLhnAB0kexYiBVctJiuuGk1EGysCA9g9ttMycRadnSeEdyh/nwTzVtz7Nu79stm6ciiYe7QLTh6xTSkOEH44+rU7ZYJsSo1a0QLHVakv8OdwlSRTIlyh/KXh2UParPGo0kwIVBdCtMjLVxu3/2BQHhNOZAMcFiSdComFBMPyX5ldMANEGXS2XmAxKmo/Wy96nQ4xu+/VBj0AAABiAZ4OakJ/AAADA+IOMdyYXQGEUOyE753P5H81kCDr1v5/9bb62SFC+wAckDnMhvQdf5ZUERv/1YmWuQm6YHQY9T0lNux3bDeRN5T2PCgR6lbsbN1K13yVhUWBn3oWGhFYimkAAADVQZoQSeEPJlMCF//+jLAAAAV33M9Tr9IUWTjKblj9dHi54JgzZAAvmi4TLPgAF8j93Fe6uS3OAm8RUCnbQ8TwEXeRhXn2dJ0ithH+l/wRvtk0MUpMyc6xR+Jds4SJfUVZ4gDFTpR0XDjfKPAFg7QyXUtoMDyMcDJQSbGutBRY4NO9WG2DphVE39XLnAe6Vc8deqXLZXOWcnwjf/w7i9yfjpy4+0IS0/ggFbDAlKdO7EFhVswvZra9CYXdhgYDxfoeWHwmWIuLyVb/HTvCn+4wHLh+wHBAAAAAtkGaMUnhDyZTAhf//oywAAADAfXhOmu+pJTIjwn0Zk5+oAh8VGIFsxN/Nt/rDdb3dR7HZbvsnJVJkKCv96XT1f/JIdNp9dlklOnVMItkGCf7/b8by1gZMDe1iQfZ6yW8E2FZWAWTXjdr3KyRbavpbZj1foYVoXfWHbBaGmSWXJCJ81xDPS+Ss7movMurV+KaXJf0iATWSfvdY9BcnLaz+uQgijQI+9VsxDpVUbpRvjSgfU9VWlBAAAAA5UGaUknhDyZTAhf//oywAAADAMBSGvdk8DvlGNZvNzigNV7ABOqY1RHtmRF0ZDh7rnSPscBYn1VBZcswAs5N3HBLHBcZEY3nQ+1gpfsqrdpBGZPHnj7x+FjrhGxcQR5enEmugyIZ3dsNifFvC8ULzS7EPXt/baN2o6PAVyEvjAHnPCTU4PCTRjijr0aW5h2wLiIXj9IChFBLhpz6XhSr8PBSKH0u+nHJnOVivhMSSEtz6HqC4P21NlKcIZJdSfSNM7jovWM3HU78gkmj9ytvRih3vKB5juEX1gPODHs6nvdbRsfbikkAAADcQZpzSeEPJlMCF//+jLAAAAMAvHx1Tb24LboCHmVKggk+fowAWuyfIqxDVTosFWt/S8dkrJfepkfshrb/L8Xc70kswSX6x33XuW8KtE73f1yUEY/UHRLW8k97MEzxmuWVnS0mraTEvXHqPUymMTmfLXFAD+eqGAaBn9jgHWWlCfq2fCCcSS/twUrZLI2KlqH0naH+PYH+LfK99xF1YCH75g2cP9+zBoYVsq1FZLNFHd9eznufMy5Tp1HY+Nzv8iorm6qy3DtmOf/kjZ9s4xJMMd+gC8wzzU5/zhcb0AAAAN1BmpRJ4Q8mUwIZ//6eEAAAAwBDvixMGyCbN6XFLt6Gl9ACaaXC0kAnN4BagzYNR9Z5k7V7lrh8QvUPr7NlQGdmhVWv6WDZy2Ihr/JT1+1kQku29Q9thekKSWkg0BsYsospx605mv9dAuKNWsmUBRvkkmkXZQLXIpkzIg2rARkM+lxldpZfNJkSc4iQ+lac58NVAjrGN+Pk/teywNwbYIC/4D/SjQRf2zyEWs/2AfhzgJ05Gudq3JVhaCcULDuVaEgaiGxI3GKKNbpZOISGxtcj8IvwG/pORtcL8CMHdwAAAQNBmrVJ4Q8mUwIZ//6eEAAAAwAZ32NGhv0U2QDaxnLGmiffgbAHKN4LSToTv2V5IC7FeXwj3dRWeosOyAyGC9m3YySXH185h/wD8FGhzx2g4Sug8kJFHrXGENgYxtRXOFHbCKrH3f8RXxJT1T23Wt0q6YPRBYHvBq1cx4GqBtQS/cZDoM4U1stF3UtlEsJbcT2c5F5w4dJ4sE2bE7YKynaE8PTeWf13iFoiTTJqIgLFZBvqLNkqrYSHPLo+vLg9UUdUs32vi3rVDFdC8rv98JghwFGEYAE+0+uh7ylG+DG7Q7+iCBFYmXwtCBQkAhW9RQaUGG0CCuXjACgPOzCisSmsLNUxAAABH0Ga1knhDyZTAhn//p4QAAADABk/Y8FcNIIPKNxXMg+M765krlZ2fJfFgJ1phj3Wqz3EqXuywVs3KbQste1QvhJl5bQRyrHeIKMU3Ij+KBIQQ/emPB4BJZzMH5UZi4GE+DV0UeSfjg72Qsxw4qYySqczNT1U65zUML8P9+AGfHim0WWx1u2o0UfOA33hhNKH+G+b01KGoqdrigcqwaXvBz5nkbPJ3hEGozD33zkct3RGH9fkTzZdWNxRTs7xlAAFR/rtYMOKDiggsLmobhvrk5jCHfE5FMVWAb29KAo15LgEbt961BLlY6g9MeZ2C/arFcVPMVuoMaRWGH0jGHIIRgMM9xSUaTRnwCwusg6cyV4AAc/JG3JcmRSFo9BJzlFwAAABE0Ga90nhDyZTAhv//qeEAAADAAJd03tRBf/rdO0tiX9lqQ1syxGACXILNd8Rf+W6dd7fZdxrdj7rWaDgb4gRpUKywXJ383qembubv5lzhrN0IEuPB/freQgtmK4q7gQnJtlVbeenNMB4tMgxroe2APibILSdyXA4bhVCajVOs56IsvxYEa/0RxPNXgrU9Q3J6Lpw/gZQ0Wok2K1uPL9A7kC5Jxl2FANOe5qj1dKyI9P4eUhCFuAnDatWFKGX4O5nXSpIqUBSWtlbchydrrTL/4D77r3/OWAOu3dWL6ACVllR9EVCmuX9xjc3qjaAd/JELL/eHBDELLohKKuxApQffrf6uWmHNErJn8SgTYoJ4RLNFenBAAABQkGbGUnhDyZTBRE8N//+p4QAAAMAAON821uBdTVpJcGXugFB8WYBsKAzlfxs+vlQtG2go1lR+y8Iw+QgVoUE4COxfwxrLHvbrb7PTtl9t8gJ0MwBm/MvYVe/DvsBxpZ9n6o/zqeDYZj+A/bOW4ot2vVoSRqQgeamBG9+T1vCpK2wcGi2jBX0dwiWqHKHHduqZOKVxP81S385cbHZYe3pkN15DGyW9pT21sRygVV56bxW+2N6UUriIm7GD09zhsLqJasMpa+Jr+Kk+lLkP/4PupDNX/BPXGinmX9Zf59chtZlIyVvP2Al0oB2PJjGgoDhyrbjc9o45nNM1ilFmSj/HuhQOE1xKqGcOU09HzVXhgpvEm+3cb0LaqgZro2F10r6deZ4Wv1wqNw8QACX9L/FJNu5phpmLDdijW8upjDxIEZ6qWEAAADEAZ84akJ/AAADAmSb4fo7Q8XJNBsWLUY5ABCMjxEdJ1gO3KRk195/M/lwuV4j6Oz/NLHO1KdsaZS25yOLxmaQOxJLu1GPGfCkhrQXbdwTpr3CWd22Ydw5eM1actrq/lZjorKA8xZzvfSwydPH6fwaKGjjrI3ZozwGf77ZBlI2D6iY3lD/7Ee8YNaz4OG7DSJNHyGimCgxveRPf6BMKrVLhQMRvOHOPMJsVekVr+jnUjN8r3sNTLTDo4htlze44bLW3YD+uAAAASZBmz1J4Q8mUwIb//6nhAAAAwAA2PsqJ667/LMa1uP4F4gAFh95nK/Zb45lGIkPqke4Vf1RaPRfEiZGJ9Z8Q+f5Ilx9ToeX3NbbD6JnQZUeF030vksDSHeoE7IPXpLnPZzh8PWsSXpdDqLot6doJ1CbQfwaEyYiakwnaLyhYZCe/6hSL47JeZXp1czkMqrGk/FDNqYeo1D5irQQUyxvCR0FY2JvVIVxebbi9gAQ+ag8phoet8SIrWsPdyRGb5K6r/FcwqlzIIFGVU4TnJWBfWnTRwxLejeLtGTJbcubz2DyFZViI7UZ3o7QfH/gPy1WJwvC5cqhJedlBA35afczHPzkJZzHNl4l8XRJcDrYrmkxQxaemmb+2cwU348S4FrhBUv4QdLjhP0AAAEdQZ9bRRE8K/8AAAMB1lHNAYg5hqiCtP6lyNbMsUOcAHXl/izUdwoUnS4sOHIQKtWO7xT5kj+X4bkAR/2Jd1FAf8tXZtgTGFDORdcJD8vBS0N29yavSkBb52fDWBo5/4xvlW6zhx3Se22dzHzHCvGINNd5lHC2TNSTOT+9mvPknO59p5r/A34A0s1XPf+oI13mrNu/PQswIDIVeWcv3J305vnCRiTro3KQ6eYun2+9Pod0rt6vEQP7xNONveFvvxBNrmaXWbu1OEyWM+6BarMw7DsReBA4fY0KMWBRNSRACgdVxoSyUh1zm70GlufXMxQ0EWJBr+53ClOB+N+DeMSsd59w9qyfN2n3DpT5CwEoj//Y+SP5ZD359ycggJ6AAAAA7gGfenRCfwAAAwAA4mzI0eausKng7AF/CABxROJTyKVgwODrmEZ1f7z5jkmc5Ri5DFhWMtRGyKHHkMObbpLxh6crgjv6dSOJ7XvGpOHbVLUtzqHkJFPTH6g8Hr3OdqH7RohSZ4K1qwhdI5GrwqoVFxi2MORRPo/MUeGRoct1HnXf3oqfKFrxWsaaYpwBz3DlNuKysRwwmLH2iVKvSU8LHcM9l/CYVqkZbB5f8CbKC+JpuHRkeCwCUvKnit2Vi+GZIQ4yIipHydVPDr9TvV9tAwrGy0Ug5Ko7lzvd9PESIY8Nsc9IO4x+3yL/s2bPB+EAAACgAZ98akJ/AAADAABUGEgBZ3KauuD8tTxodN4kVRDte/BuwVjYX4gsPwq+RTADJ493gAc+0JSCyannpYanP4GaCerTcvCUZZDthpbngCgzAtlBVmUQxlb1dDk34w4Pgtrfdg5C9m52QMRnJ8DyVVI058CVRuDlTUNXZHeWpWx8y88yIpYBOMdR0A94+HNhpLJCNr/TPWQtxH6PUdEyb4UEYQAAAYxBm2FJqEFomUwIZ//+nhAAAAMAAuu+/gaCIALqPp7J8ekUyozEM+YY4YrhnNJsqyAiG3g/F7g/YFq7MYGsr4OlEgYhCERgm9Ef1nAsxJm6eGfdmW/+jbiB38waEc/Fa+hV6oT4aXJyMaHN0mZdKu2v1RXVJRx2d+cVcRrBCy9SpqzUhVoMaZPNVMqzWDK7WdRUGnhEuxazolqQXBo7zMlhWURXqXGOn4g/eaIBZxQoBFTf/p6EtN7FlwfnBCzvx5D/F+9/HScHD+knWthAMe7mIlHwVD4N7yz+Txdzw3Is5HqoYG6jGFoxXYgdEyFL4VI7LwpYTYnqRWmJIb0aSxMxrtMvdQ1/fFc3of+HjZdtAiPugEYvAfIhhN7xfn18v4hoE0CqyU7ou86OtIF5UiOy/mcLonWu9cHZuIbycKHDq9aKfiFcQyyzrsv/93xxunUJ8/HFrDKdq2yWc7CgSa7WwoFcja2WvlFgEwIJkywc1xNFSL0/cpH9d7p1HGZyYNAYYiVmkeTC7DtVjm4AAAEOQZ+fRREsK/8AAAMB269EDc/+dh6EkciyYnYkbLThx0AHOHclZcrqwDAQk7yCGaHkW5ug0qR6PgwtZO4CqCAkVgWugXeETEo82vm/cFmxA3SbbLYnm8FGZxdJ0MU4bGbiVakjEWflD5LE9uZ2tJCCSsljE20UhEe/uA8O5lYPfqz5aQfxYeN8EMNtRr+/lVDhfkq1PLN4f5FQrnGMGIvSX7+mCZnAjVICz1AB+sYBmWWk/L7b0K7cvi3LCOXmwo7yO6y43iqB1QMlNcwP5ZdAig7LedUx9KIN/Ws6/dHAnZhEUIrwxA9xjESzCnXPEC5X8nJE0lGZL0NF1S8GDOC1fE4WLP7n0uJgYLjix9xRAAAApwGfvnRCfwAAAwAAxEyI8rjEMLx8He4ILQAF7RFJOETl1GFdvVATPvrLj2uEZng2SCLuXw+lYBYT9OwKZ/fdRme7q1Gj7gHej+1GjsEpbTMy9SiuZFXDSkvOFXJiXi52iIQPfWJl5HW6tbkPmnJcFNsVXj+hI1rMMAFeDS8n1fMuHITq/GNu1C/2u7bGs7tIP2/MpjujOmKPRXQ2RPi/jRlrWS4du+sPAAAAxQGfoGpCfwAAAwAAyTuuS2QTV43TjeuY867GD4CRfjgA375TTJ/Dkc0lVPKVuCsjdJjy8CXvnTNd+WUQLnDkD8hzLAQ/0Qrkchnev/VVjERFzTtaw9anozmle/9jQxMHAIqOw/638HpLiRJElv9Vck7iMjKIbLSHQDaGxH6iH530tDimaMp4+/jURONHgYCoyYBUswa3CRtvT9pk5t8n4uW3ya3BjMnrHv6qWU8B6VQJvbjLQEx0tCbQ2faa647H1NbrRYWYAAABGEGbokmoQWyZTAhn//6eEAAAAwAHPs4SqvRKhKtMACDROQWzkHRVmxuTd2aN1Vl5EFcu+/xR9XUmnk1acuQn2U8OlMPRQ+EQ3Z/3xowq14lbm8Y6ry0cutOUw5PIFj2Q3PR5Z0G4trv0QWbR5g6X8m0Rl82Jrg/KkstebHIn1dJOCGRXl5pEj+9dUMOT88QTVRAzZNY7WAfWAlqNvWMJCQ01j6/yen0DVI4dnE4kCeY8LPLJhfPP0DjtQ9GMv0+z3USEIgVR+WngW4LJT4cXVKYcTxuvzjF7OCOqbLvybmrRxhfRPLia5rf895OgkRVpwx+oBRBMV1/9uxgz1qZKnYLSclgmpOkbjjTHYYgvcYhC8HehSFqICaEAAAFGQZvESeEKUmUwUVLDP/6eEAAAAwASzZuAIwmYKnEJcugAOs5WdnyDbEZe6AgrOpZcNfBZFeEWuLiu88hglVE7h17Iw6gU/t3ITgRIR0hj+DHhZE5/aTUdwnjWX8lbX1Zjqksnn14rVmFRWcx3ybHSBW5o7OTl4o+8EJKEFmiWJ0GbM2IwRI8gl24aNxb75PvwNK2T0pmGiYC2KDzHI99RtgsmqzZGbdEMKoKcEb91wvfDLSCUT++AD2Sg+BWuqIcsmqv8dD8b2VoZin/M2nYkYsWG5ZIhiEyfhwg7+REyiwU/+Kd7knTwrPp71r4tI4nRVaUVMlmm+AU94f8BKws0do3exQDccPv/4JTusyN/lrBVH/FglZn7ssHfILhzp3ozVp6blpN49Pl54ov40NhplMASZoTRrkAfabkAOkfOBj17P/ycyUAAAACwAZ/jakJ/AAADAmSb4gREs4x21DYnpH2N7QAOxlfoz4mEQgDg9xDatY/VjC5A132HifA2cOT1cudzdI/Kg1BErql/jGcyhSvfPCoNxB/4jl6TK53WFF8vkgsSXIJ+C3k41MVAgQZyKsFAnJ3u9UBHfkbixQlJ/3qAUyrnh1oMBBlg/FWoghqP940ONei5vayHt3fg5Lzo/ZwHCcdQZpuLKsU8FH3KL8v7SWV7PVyHgpUAAAE2QZvnSeEOiZTAhX/+OEAAAAMB78lTNLFnsAF0vZEFQYcn0+Vce7OMmng/vi02Drj1wgx3jl51heB1JEHW9zO6d+FEqGPZQ6GIGQ8fGmmz221UNP+7UgKtVSY/bKKQiMQSvGr/c1JoLxq4UzAje186W+pFO7aD0MpctP03mIxZNAqMwZ1dAKfCiYzOtlCCsl6yHMQNFkyEcKjof6Ua3OMkzg7exrzZDpWH1KUCGQACJuCEc1ZCYLMS7MZ3FvH9g6/Y9eHvSzb75YhDnOWn45rqskJfQHbKrywSBUXjNrlLfM/9XyqH0ztmDNJ7mt3/0pSXaDniYty0QOldqIVOVu+l93haJys81wyIpGr1swGQkWPIxAC03yINUzPcUnggZzDtNJ/ICjSX9JbSS2SuFqR7jQgd0QLa0wAAAN9BngVFFTwr/wAAAwHWUc07cIBdElo+Bsrg9ABczEk4nHUh2Kwi1uirHCbmVMfsU4Cnv2H4Ul4Q4zIC2V/QdXdbOO97xmFYRSiI/j4gVfVT7T/fDVmfswSU3vonsOukdJ7+yVt/nM4WDM652Q6u7unLPeSlnPqnEkA3OWTPNCioGRt+ZA0hsoiePgh30Kin3lg4vlZaUaT5wNuE8wPR+EfLja2Ud/Cs1fuP+FwJlt7/j/oKjuPRxTvEnc87S/DfdH+VjYSqmNnF8o5///Dr88fpr6Kawlo+tjdP2XGgvExxAAAArwGeJmpCfwAAAwAiu2rlWAn+zxd2EnbTKLB4bABzWQu9jeWKhBiQaeF+eR3v553PfPIwhP45JDpQyJqIQHfwWui10ltOvdLSKwknAoJi6prfj/INaW11PbdHLQsp3Dcr1/UUrVdnXemRl7cCGXxaL/1afkRlrc12e7xzQhXze5qoqHhwuTXdgYCphOPiVjVY/LUDEkn6DMxTohDb1yPa1S0Yf5n9/pvG9u5IU29x08EAAAC8QZooSahBaJlMCE///fEAAAMABNOhcad/QbNTJH4bS8dgAF6536SreHf3pjFl2Ouv+TLxmGVakWaMVxfRSAaeM6Z+sUH3I+9A+73a3axOHbqbMd3r8PJ4mlnyU8Gas+A/op6+XcJ3RSLURIG5UqJUiAK8cAcOBRklw2tvq3nVs8Top0Gnbi3YQGDEo+3mqKeXF1wVgmiN79YfZyjKXj6fMK0EPTHDwvJL9ofU/2eu7RhTTaGBk+OPaxO0LFgAAAs/bW9vdgAAAGxtdmhkAAAAAAAAAAAAAAAAAAAD6AAAGiwAAQAAAQAAAAAAAAAAAAAAAAEAAAAAAAAAAAAAAAAAAAABAAAAAAAAAAAAAAAAAABAAAAAAAAAAAAAAAAAAAAAAAAAAAAAAAAAAAAAAAAAAgAACml0cmFrAAAAXHRraGQAAAADAAAAAAAAAAAAAAABAAAAAAAAGiwAAAAAAAAAAAAAAAAAAAAAAAEAAAAAAAAAAAAAAAAAAAABAAAAAAAAAAAAAAAAAABAAAAAAlgAAAGQAAAAAAAkZWR0cwAAABxlbHN0AAAAAAAAAAEAABosAAAEAAABAAAAAAnhbWRpYQAAACBtZGhkAAAAAAAAAAAAAAAAAAA8AAABkgBVxAAAAAAALWhkbHIAAAAAAAAAAHZpZGUAAAAAAAAAAAAAAABWaWRlb0hhbmRsZXIAAAAJjG1pbmYAAAAUdm1oZAAAAAEAAAAAAAAAAAAAACRkaW5mAAAAHGRyZWYAAAAAAAAAAQAAAAx1cmwgAAAAAQAACUxzdGJsAAAAmHN0c2QAAAAAAAAAAQAAAIhhdmMxAAAAAAAAAAEAAAAAAAAAAAAAAAAAAAAAAlgBkABIAAAASAAAAAAAAAABAAAAAAAAAAAAAAAAAAAAAAAAAAAAAAAAAAAAAAAAAAAAGP//AAAAMmF2Y0MBZAAe/+EAGWdkAB6s2UCYM+XhAAADAAEAAAMAPA8WLZYBAAZo6+PLIsAAAAAYc3R0cwAAAAAAAAABAAAAyQAAAgAAAAAUc3RzcwAAAAAAAAABAAAAAQAABRhjdHRzAAAAAAAAAKEAAAABAAAEAAAAAAEAAAoAAAAAAQAABAAAAAABAAAAAAAAAAEAAAIAAAAAAQAACgAAAAABAAAEAAAAAAEAAAAAAAAAAQAAAgAAAAABAAAIAAAAAAIAAAIAAAAAAQAACAAAAAACAAACAAAAAAEAAAgAAAAAAgAAAgAAAAABAAAIAAAAAAIAAAIAAAAAAQAACAAAAAACAAACAAAAAAEAAAgAAAAAAgAAAgAAAAACAAAEAAAAAAEAAAoAAAAAAQAABAAAAAABAAAAAAAAAAEAAAIAAAAAAQAACgAAAAABAAAEAAAAAAEAAAAAAAAAAQAAAgAAAAABAAAKAAAAAAEAAAQAAAAAAQAAAAAAAAABAAACAAAAAAEAAAgAAAAAAgAAAgAAAAABAAAIAAAAAAIAAAIAAAAAAgAABAAAAAABAAAGAAAAAAEAAAIAAAAAAQAACAAAAAACAAACAAAAAAUAAAQAAAAAAQAACAAAAAACAAACAAAAAAEAAAYAAAAAAQAAAgAAAAABAAAGAAAAAAEAAAIAAAAAAQAABgAAAAABAAACAAAAAAIAAAQAAAAAAQAABgAAAAABAAACAAAAAAEAAAYAAAAAAQAAAgAAAAABAAAGAAAAAAEAAAIAAAAAAQAACgAAAAABAAAEAAAAAAEAAAAAAAAAAQAAAgAAAAABAAAKAAAAAAEAAAQAAAAAAQAAAAAAAAABAAACAAAAAAEAAAQAAAAAAQAACAAAAAACAAACAAAAAAEAAAYAAAAAAQAAAgAAAAAIAAAEAAAAAAEAAAgAAAAAAgAAAgAAAAABAAAIAAAAAAIAAAIAAAAAAQAABgAAAAABAAACAAAAAAEAAAQAAAAAAQAABgAAAAABAAACAAAAAAEAAAQAAAAAAQAABgAAAAABAAACAAAAAAEAAAoAAAAAAQAABAAAAAABAAAAAAAAAAEAAAIAAAAAAQAACgAAAAABAAAEAAAAAAEAAAAAAAAAAQAAAgAAAAABAAAKAAAAAAEAAAQAAAAAAQAAAAAAAAABAAACAAAAAAEAAAgAAAAAAgAAAgAAAAABAAAGAAAAAAEAAAIAAAAAAQAABgAAAAABAAACAAAAAAEAAAQAAAAAAQAABgAAAAABAAACAAAAAAEAAAYAAAAAAQAAAgAAAAABAAAKAAAAAAEAAAQAAAAAAQAAAAAAAAABAAACAAAAAAEAAAQAAAAAAQAACgAAAAABAAAEAAAAAAEAAAAAAAAAAQAAAgAAAAABAAAEAAAAAAEAAAYAAAAAAQAAAgAAAAACAAAEAAAAAAEAAAYAAAAAAQAAAgAAAAABAAAGAAAAAAEAAAIAAAAAAQAABAAAAAABAAAKAAAAAAEAAAQAAAAAAQAAAAAAAAABAAACAAAAAAEAAAoAAAAAAQAABAAAAAABAAAAAAAAAAEAAAIAAAAAAQAABgAAAAABAAACAAAAAAEAAAQAAAAAAQAACAAAAAACAAACAAAAAAEAAAYAAAAAAQAAAgAAAAADAAAEAAAAAAEAAAYAAAAAAQAAAgAAAAAIAAAEAAAAAAEAAAYAAAAAAQAAAgAAAAABAAAKAAAAAAEAAAQAAAAAAQAAAAAAAAABAAACAAAAAAEAAAoAAAAAAQAABAAAAAABAAAAAAAAAAEAAAIAAAAAAQAABAAAAAABAAAGAAAAAAEAAAIAAAAAAQAACAAAAAACAAACAAAAAAEAAAQAAAAAHHN0c2MAAAAAAAAAAQAAAAEAAADJAAAAAQAAAzhzdHN6AAAAAAAAAAAAAADJAAATfQAAAkEAAAC6AAAAowAAAGwAAAC7AAAAlAAAAHYAAABYAAAAzQAAAJQAAACHAAAA0gAAAH8AAAB2AAABLgAAAKIAAAChAAABKQAAAKwAAACYAAABRAAAALEAAACTAAABPQAAALkAAACjAAAA/QAAAOUAAAEbAAAAtgAAAKIAAACZAAABLwAAAKIAAACgAAAAlwAAAPkAAAArAAAAfgAAAJYAAAD0AAAAkgAAAIAAAAE/AAAAqgAAAL8AAADHAAABDAAAAS8AAAC0AAABMgAAAMUAAACjAAAA3gAAAO8AAAEMAAABBgAAAR8AAAFmAAAA2QAAAMMAAAF8AAAA4QAAASkAAADBAAABKgAAAI8AAADFAAABDgAAAP4AAACKAAAA9gAAAJUAAAEHAAAAkwAAAQkAAACrAAAAmwAAAHYAAACtAAAAdwAAAF0AAACsAAAAyQAAAPAAAACmAAAAdAAAAN0AAACYAAAAxgAAAP4AAAEEAAABDQAAAQIAAAExAAABIgAAARAAAAFsAAAA+AAAAJkAAAFlAAAA/wAAANIAAAFsAAAAtwAAAUEAAAFEAAAAkQAAAQMAAAEmAAAAowAAATsAAAC8AAAAiAAAAIsAAADBAAAAsAAAAG0AAACJAAAA7AAAAGYAAABOAAAAiwAAAPsAAACUAAAArwAAASIAAAC1AAAA6wAAAKUAAAD0AAABPQAAAK4AAAE1AAAAtQAAAT0AAAEKAAAA6AAAAMAAAAD2AAABoAAAASAAAADLAAAA6QAAATcAAAFnAAAArAAAATUAAAD7AAABDwAAALoAAADwAAAAsgAAAL4AAAD7AAAARAAAAMYAAACEAAAA8AAAAJcAAABlAAAAaAAAAOAAAACaAAAA7wAAAPMAAACAAAAAqwAAAOQAAACFAAAA6gAAAO4AAACMAAAAvwAAAGYAAADZAAAAugAAAOkAAADgAAAA4QAAAQcAAAEjAAABFwAAAUYAAADIAAABKgAAASEAAADyAAAApAAAAZAAAAESAAAAqwAAAMkAAAEcAAABSgAAALQAAAE6AAAA4wAAALMAAADAAAAAFHN0Y28AAAAAAAAAAQAAADAAAABidWR0YQAAAFptZXRhAAAAAAAAACFoZGxyAAAAAAAAAABtZGlyYXBwbAAAAAAAAAAAAAAAAC1pbHN0AAAAJal0b28AAAAdZGF0YQAAAAEAAAAATGF2ZjU3LjgzLjEwMA==\" type=\"video/mp4\" /></video>"
            ],
            "text/plain": [
              "<IPython.core.display.HTML object>"
            ]
          },
          "metadata": {
            "tags": []
          }
        }
      ]
    },
    {
      "cell_type": "code",
      "metadata": {
        "colab": {
          "base_uri": "https://localhost:8080/",
          "height": 282
        },
        "id": "dY6Cqhtu7scr",
        "outputId": "3f21802f-adbc-43af-a29f-78c0bba00863"
      },
      "source": [
        "plt.figure()\n",
        "plt.plot(rewards)"
      ],
      "execution_count": 31,
      "outputs": [
        {
          "output_type": "execute_result",
          "data": {
            "text/plain": [
              "[<matplotlib.lines.Line2D at 0x7f002d650f90>]"
            ]
          },
          "metadata": {
            "tags": []
          },
          "execution_count": 31
        },
        {
          "output_type": "display_data",
          "data": {
            "image/png": "[encoded data removed]",
            "text/plain": [
              "<Figure size 432x288 with 1 Axes>"
            ]
          },
          "metadata": {
            "tags": [],
            "needs_background": "light"
          }
        }
      ]
    },
    {
      "cell_type": "code",
      "metadata": {
        "id": "FgIfHfCumIfK",
        "colab": {
          "base_uri": "https://localhost:8080/",
          "height": 442
        },
        "outputId": "6acc1055-97c3-413f-f97f-782b34f1e6c3"
      },
      "source": [
        "!zip -r /content/file.zip /content/video/\n",
        "\n",
        "from google.colab import files\n",
        "files.download(\"/content/file.zip\")"
      ],
      "execution_count": 32,
      "outputs": [
        {
          "output_type": "stream",
          "text": [
            "  adding: content/video/ (stored 0%)\n",
            "  adding: content/video/openaigym.video.1.11586.video000064.meta.json (deflated 60%)\n",
            "  adding: content/video/openaigym.video.1.11586.video001000.mp4 (deflated 7%)\n",
            "  adding: content/video/openaigym.video.1.11586.video000343.mp4 (deflated 10%)\n",
            "  adding: content/video/openaigym.video.1.11586.video001000.meta.json (deflated 60%)\n",
            "  adding: content/video/openaigym.video.1.11586.video000027.mp4 (deflated 11%)\n",
            "  adding: content/video/openaigym.video.1.11586.video000027.meta.json (deflated 60%)\n",
            "  adding: content/video/openaigym.video.1.11586.video000000.mp4 (deflated 11%)\n",
            "  adding: content/video/openaigym.video.1.11586.video000008.meta.json (deflated 60%)\n",
            "  adding: content/video/openaigym.video.1.11586.video000125.meta.json (deflated 60%)\n",
            "  adding: content/video/openaigym.video.1.11586.video000343.meta.json (deflated 60%)\n",
            "  adding: content/video/openaigym.video.1.11586.video000001.meta.json (deflated 60%)\n",
            "  adding: content/video/openaigym.video.1.11586.video000000.meta.json (deflated 60%)\n",
            "  adding: content/video/openaigym.video.1.11586.video000512.meta.json (deflated 60%)\n",
            "  adding: content/video/openaigym.video.1.11586.video000512.mp4 (deflated 13%)\n",
            "  adding: content/video/openaigym.video.1.11586.video000064.mp4 (deflated 10%)\n",
            "  adding: content/video/openaigym.video.1.11586.video000729.mp4 (deflated 12%)\n",
            "  adding: content/video/openaigym.episode_batch.0.11586.stats.json (deflated 83%)\n",
            "  adding: content/video/openaigym.video.1.11586.video000008.mp4 (deflated 11%)\n",
            "  adding: content/video/openaigym.video.1.11586.video000729.meta.json (deflated 60%)\n",
            "  adding: content/video/openaigym.video.1.11586.video000216.meta.json (deflated 60%)\n",
            "  adding: content/video/openaigym.manifest.0.11586.manifest.json (deflated 94%)\n",
            "  adding: content/video/openaigym.video.1.11586.video000125.mp4 (deflated 11%)\n",
            "  adding: content/video/openaigym.video.1.11586.video000001.mp4 (deflated 10%)\n",
            "  adding: content/video/openaigym.video.1.11586.video000216.mp4 (deflated 9%)\n"
          ],
          "name": "stdout"
        },
        {
          "output_type": "display_data",
          "data": {
            "application/javascript": [
              "\n",
              "    async function download(id, filename, size) {\n",
              "      if (!google.colab.kernel.accessAllowed) {\n",
              "        return;\n",
              "      }\n",
              "      const div = document.createElement('div');\n",
              "      const label = document.createElement('label');\n",
              "      label.textContent = `Downloading \"${filename}\": `;\n",
              "      div.appendChild(label);\n",
              "      const progress = document.createElement('progress');\n",
              "      progress.max = size;\n",
              "      div.appendChild(progress);\n",
              "      document.body.appendChild(div);\n",
              "\n",
              "      const buffers = [];\n",
              "      let downloaded = 0;\n",
              "\n",
              "      const channel = await google.colab.kernel.comms.open(id);\n",
              "      // Send a message to notify the kernel that we're ready.\n",
              "      channel.send({})\n",
              "\n",
              "      for await (const message of channel.messages) {\n",
              "        // Send a message to notify the kernel that we're ready.\n",
              "        channel.send({})\n",
              "        if (message.buffers) {\n",
              "          for (const buffer of message.buffers) {\n",
              "            buffers.push(buffer);\n",
              "            downloaded += buffer.byteLength;\n",
              "            progress.value = downloaded;\n",
              "          }\n",
              "        }\n",
              "      }\n",
              "      const blob = new Blob(buffers, {type: 'application/binary'});\n",
              "      const a = document.createElement('a');\n",
              "      a.href = window.URL.createObjectURL(blob);\n",
              "      a.download = filename;\n",
              "      div.appendChild(a);\n",
              "      a.click();\n",
              "      div.remove();\n",
              "    }\n",
              "  "
            ],
            "text/plain": [
              "<IPython.core.display.Javascript object>"
            ]
          },
          "metadata": {
            "tags": []
          }
        },
        {
          "output_type": "display_data",
          "data": {
            "application/javascript": [
              "download(\"download_f121d6f0-e3d1-4bb8-8a8b-d93e09b3711b\", \"file.zip\", 4440121)"
            ],
            "text/plain": [
              "<IPython.core.display.Javascript object>"
            ]
          },
          "metadata": {
            "tags": []
          }
        }
      ]
    }
  ]
}